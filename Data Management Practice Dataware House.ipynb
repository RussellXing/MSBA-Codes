{
 "cells": [
  {
   "cell_type": "markdown",
   "metadata": {},
   "source": [
    "# Exercise 04 - Due Saturday, November 18 at 12pm\n",
    "\n",
    "*Objectives*: Gain experience loading a CSV dataset into a star schema. Explore the data by writing and executing a number of SQL queries using common syntax and functions and describing your findings.\n",
    "\n",
    "*Grading criteria*: The tasks should all be completed, and questions should all be answered with SQL queries in the space provided, unless a text answer is requested. Results should be correct, according to the embedded tests. The notebook itself should be completely reproducible; from start to finish, another person should be able to use the same code to obtain the same results as yours.  Note that you will receive no more than partial credit if you do not add text/markdown cells explaining your thinking at each major step in each problem.\n",
    "\n",
    "** Add your markdown and code cells only in the designated areas after \"Answers:\". Do not remove or change any existing cells. **\n",
    "\n",
    "*Deadline*: Saturday, November 18, 12pm.\n",
    "\n",
    "## Setup - obtain data\n",
    "\n",
    "The US City Open Data Census has data on [Campaign Finance Contributions](http://us-city.census.okfn.org/dataset/campaign-finance).  Let's take a look at data from [Washington DC](http://opendata.dc.gov/datasets/campaign-financial-contributions).\n",
    "\n",
    "First we download the dataset:"
   ]
  },
  {
   "cell_type": "code",
   "execution_count": 1,
   "metadata": {},
   "outputs": [
    {
     "name": "stdout",
     "output_type": "stream",
     "text": [
      "--2017-11-18 06:51:10--  https://opendata.arcgis.com/datasets/6443e0b5b2454e86a3208b8a38fdee84_34.csv\n",
      "Resolving opendata.arcgis.com (opendata.arcgis.com)... 34.235.70.5, 52.22.192.109\n",
      "Connecting to opendata.arcgis.com (opendata.arcgis.com)|34.235.70.5|:443... connected.\n",
      "HTTP request sent, awaiting response... 200 OK\n",
      "Length: unspecified [text/csv]\n",
      "Saving to: ‘dc_contributions.csv’\n",
      "\n",
      "dc_contributions.cs     [   <=>              ]  53.31M   112MB/s    in 0.5s    \n",
      "\n",
      "2017-11-18 06:51:11 (112 MB/s) - ‘dc_contributions.csv’ saved [55903436]\n",
      "\n"
     ]
    }
   ],
   "source": [
    "!wget -O dc_contributions.csv https://opendata.arcgis.com/datasets/6443e0b5b2454e86a3208b8a38fdee84_34.csv"
   ]
  },
  {
   "cell_type": "markdown",
   "metadata": {},
   "source": [
    "## Part 1 - examine the data (30 points)\n",
    "\n",
    "**Question 1** :\n",
    "Use `csvstat` and other tools as you see fit and observe its contents. Describe what you see:  How many records does  this dataset have? What do all the columns mean?  Are there null values?  Which columns interest you the most? Which columns present facts and which columns present dimensions?\n",
    "\n",
    "Insert a combination of code and text/markdown cells here to review the data and describe what you find.\n",
    "\n",
    "Hint: to get help on command line tools, try the `--help` option. For example: `csvstat --help`.\n",
    "\n",
    "Hint: due to the size of the dataset, if you use `csvstat`, you can apply it on sample or the first 10000 lines.\n",
    "\n",
    "**Answer:**"
   ]
  },
  {
   "cell_type": "code",
   "execution_count": 2,
   "metadata": {},
   "outputs": [
    {
     "name": "stdout",
     "output_type": "stream",
     "text": [
      "214975\r\n"
     ]
    }
   ],
   "source": [
    "!xsv count dc_contributions.csv"
   ]
  },
  {
   "cell_type": "markdown",
   "metadata": {},
   "source": [
    "There are 214,975 lines in the table."
   ]
  },
  {
   "cell_type": "code",
   "execution_count": 3,
   "metadata": {},
   "outputs": [
    {
     "name": "stdout",
     "output_type": "stream",
     "text": [
      "1   OBJECTID\r\n",
      "2   COMMITTEENAME\r\n",
      "3   CANDIDATENAME\r\n",
      "4   ELECTIONYEAR\r\n",
      "5   CONTRIBUTORNAME\r\n",
      "6   ADDRESS\r\n",
      "7   CONTRIBUTORTYPE\r\n",
      "8   CONTRIBUTIONTYPE\r\n",
      "9   EMPLOYER\r\n",
      "10  EMPLOYERADDRESS\r\n",
      "11  AMOUNT\r\n",
      "12  DATEOFRECEIPT\r\n",
      "13  ADDRESS_ID\r\n",
      "14  XCOORD\r\n",
      "15  YCOORD\r\n",
      "16  LATITUDE\r\n",
      "17  LONGITUDE\r\n",
      "18  FULLADDRESS\r\n",
      "19  GIS_LAST_MOD_DTTM\r\n"
     ]
    }
   ],
   "source": [
    "!xsv headers dc_contributions.csv"
   ]
  },
  {
   "cell_type": "code",
   "execution_count": 4,
   "metadata": {},
   "outputs": [
    {
     "name": "stdout",
     "output_type": "stream",
     "text": [
      "OBJECTID  COMMITTEENAME                           CANDIDATENAME     ELECTIONYEAR  CONTRIBUTORNAME           ADDRESS                                                 CONTRIBUTORTYPE  CONTRIBUTIONTYPE  EMPLOYER                EMPLOYERADDRESS                                   AMOUNT                                      DATEOFRECEIPT             ADDRESS_ID                XCOORD     YCOORD     LATITUDE          LONGITUDE          FULLADDRESS                 GIS_LAST_MOD_DTTM\r\n",
      "1001      Fenty 2006                              Adrian Fenty      2006          Jesse Fenty               408 Cedar Street, NW, Washington, DC 20012              Individual       Check             Dept. of Commerce       Washington, DC                                    2000                                        2005-07-21T00:00:00.000Z  259678                    398379.06  145173.76  38.9744832244325  -77.0187060408559  408 CEDAR STREET NW         2017-11-13T06:18:09.000Z\r\n",
      "1002      Elissa 2013                             Elissa Silverman  2013          Edith  Shine              408 Constitution Ave NE, Washington , DC 20002          Individual       Credit Card       \"CNCS                   \"                                                 1201 New York Ave NW, Washington, DC 20005  100                       2013-02-16T00:00:00.000Z  27093      399987.06  136038.08         38.8921877525076   -77.0001491584802           408 CONSTITUTION AVENUE NE  2017-11-13T06:18:09.000Z\r\n",
      "1003      Ward 6 Democrats                        William Simons    2002          Passion for Fitness, LLC  408 H St NE, Washington, DC 20002                       Corporation      Check                                                                                       50                                          2010-07-16T00:00:00.000Z  27101                     399992     136952.88  38.9004286043135  -77.0000922260968  408 H STREET NE             2017-11-13T06:18:09.000Z\r\n",
      "1004      Kathy Patterson for Chairman Committee  Kathy Patterson   2006          Krista Johnson            408 Independence Ave. SE Apt 101, Washington, DC 20003  Individual       Check             University of Maryland  Washington, DC                                    100                                         2006-06-01T00:00:00.000Z  27102                     399988.4   135547.94  38.8877723878539  -77.0001337041184  408 INDEPENDENCE AVENUE SE  2017-11-13T06:18:09.000Z\r\n",
      "1005      Catania 2006                            David Catania     2006          Benson Penick             408 M Street, NW, Washington, DC 20001                  Individual       Check             requested               Washington, DC                                    100                                         2006-08-03T00:00:00.000Z  237556                    398553.46  137511.53  38.9054599308482  -77.0166772686337  408 M STREET NW             2017-11-13T06:18:09.000Z\r\n",
      "1006      Muriel Bowser for Mayor                 Muriel Bowser     2014          Kyle Whitley              408 Rhode Island Ave NW , Washington, DC 20001          Individual       Check                                                                                       100                                         2013-09-16T00:00:00.000Z  237187                    398531.09  138439.37  38.9138181943667  -77.0169371587302  408 RHODE ISLAND AVENUE NW  2017-11-13T06:18:09.000Z\r\n",
      "1007      Re-Elect Orange At Large 2012           Vincent Orange    2012          Kyle Whitley              408 Rhode Island Ave NW, Washington, DC 20001           Individual       Check             McKissacc               1401 New York Ave NW # 900, Washington, DC 20005  50                                          2011-12-11T00:00:00.000Z  237187                    398531.09  138439.37  38.9138181943667  -77.0169371587302  408 RHODE ISLAND AVENUE NW  2017-11-13T06:18:09.000Z\r\n",
      "1008      Fenty 2006                              Adrian Fenty      2006          James Norris              408 Richardson Pl. NW, Washington, DC 20001             Individual       Check             N/A                     Washington, DC                                    100                                         2006-06-02T00:00:00.000Z  218201                    398551.89  138368.43  38.9131791775088  -77.0166971762542  408 RICHARDSON PLACE NW     2017-11-13T06:18:09.000Z\r\n",
      "1009      Mara 2011                               Patrick Mara      2011          Michael Clauser           409  E Street SE, #104, Washington, DC 20003            Individual       Credit Card                                                                                 201                                         2011-04-12T00:00:00.000Z  27153                     400017.85  134965.44  38.8825250051651  -76.9997942721553  409 E STREET SE             2017-11-13T06:18:09.000Z\r\n"
     ]
    }
   ],
   "source": [
    "!head dc_contributions.csv | xsv table"
   ]
  },
  {
   "cell_type": "markdown",
   "metadata": {},
   "source": [
    "* ID is the identification for each contribution.\n",
    "* COMMITTEENAME is the commitee where the candidate was from.\n",
    "* CANDIDATENAME is the name of candidate who received the contribution.\n",
    "* ELECTIONYEAR is the year of the election.\n",
    "* ADDRESS is the contributor's address.\n",
    "* CONTRIBUTIONTYPE is the type the contribution, individual or corporation.\n",
    "* CONTRIBUTIONTYPE is the type of contribution, check, credit ot cash.\n",
    "* EMPLOYER is the employer of the contributor.\n",
    "* EMPLOYERADDRESS is the address of the employer.\n",
    "* AMOUNT is the amount of contributor.\n",
    "* DATEOFRECEIPT is the date when candidate receive the contribution.\n",
    "* ADDRESSID is the identification of the employer's address.\n",
    "* XCOORD, YCORD are the coordination of the employer's address.\n",
    "* LATITUDE, LONGITUDE are the LATITUDE and LONGITUDE of the employer's address.\n",
    "* FULLADDRESS is full version of the address.\n",
    "* GIS_LAST_MOD_DTTM shows the last modification datetime of the record."
   ]
  },
  {
   "cell_type": "code",
   "execution_count": 5,
   "metadata": {},
   "outputs": [
    {
     "name": "stdout",
     "output_type": "stream",
     "text": [
      "  1. ﻿OBJECTID\n",
      "\t<class 'int'>\n",
      "\tNulls: False\n",
      "\tMin: 1\n",
      "\tMax: 214975\n",
      "\tSum: 23107232800\n",
      "\tMean: 107488.0\n",
      "\tMedian: 107488\n",
      "\tStandard Deviation: 62057.93705884848\n",
      "\tUnique values: 214975\n",
      "  2. COMMITTEENAME\n",
      "\t<class 'str'>\n",
      "\tNulls: False\n",
      "\tUnique values: 1199\n",
      "\t5 most frequent values:\n",
      "\t\tVerizon Communications Inc. Good Government Club - Washington DC:\t12105\n",
      "\t\tWashington DC Association of Realtors PAC:\t9978\n",
      "\t\tFenty 2006:\t8221\n",
      "\t\tMuriel Bowser for Mayor:\t7092\n",
      "\t\tGray for Mayor:\t7029\n",
      "\tMax length: 113\n",
      "  3. CANDIDATENAME\n",
      "\t<class 'str'>\n",
      "\tNulls: True\n",
      "\tUnique values: 386\n",
      "\t5 most frequent values:\n",
      "\t\tAdrian Fenty:\t17440\n",
      "\t\tMuriel Bowser:\t13320\n",
      "\t\tVincent Gray:\t13311\n",
      "\t\tFlorence Pendleton:\t12144\n",
      "\t\tJack Evans:\t8997\n",
      "\tMax length: 26\n",
      "  4. ELECTIONYEAR\n",
      "\t<class 'int'>\n",
      "\tNulls: True\n",
      "\tMin: 2002\n",
      "\tMax: 2018\n",
      "\tSum: 431966044\n",
      "\tMean: 2009.6397902738815\n",
      "\tMedian: 2010\n",
      "\tStandard Deviation: 4.594603129244718\n",
      "\tUnique values: 14\n",
      "\t5 most frequent values:\n",
      "\t\t2014:\t40696\n",
      "\t\t2006:\t34433\n",
      "\t\t2010:\t26530\n",
      "\t\t2002:\t25657\n",
      "\t\t2015:\t18509\n",
      "  5. CONTRIBUTORNAME\n",
      "\t<class 'str'>\n",
      "\tNulls: True\n",
      "\tUnique values: 104632\n",
      "\t5 most frequent values:\n",
      "\t\tJoseph Askew:\t310\n",
      "\t\tShazada Kashif:\t295\n",
      "\t\tPatricia Chapla:\t281\n",
      "\t\tArthur Hall:\t271\n",
      "\t\tErica Cunningham:\t267\n",
      "\tMax length: 88\n",
      "  6. ADDRESS\n",
      "\t<class 'str'>\n",
      "\tNulls: True\n",
      "\tUnique values: 131214\n",
      "\t5 most frequent values:\n",
      "\t\t1300 I St NW, Washington, DC 200053314:\t1026\n",
      "\t\t4400 Jenifer St NW, Washington, DC 20015:\t334\n",
      "\t\t519 C St NE, Washington, DC 20002:\t297\n",
      "\t\t1320 N Courthouse Rd, Arlington, VA 222012501:\t283\n",
      "\t\t3201 New Mexico Ave NW, Washington, DC 20016:\t270\n",
      "\tMax length: 150\n",
      "  7. CONTRIBUTORTYPE\n",
      "\t<class 'str'>\n",
      "\tNulls: True\n",
      "\tUnique values: 24\n",
      "\t5 most frequent values:\n",
      "\t\tIndividual:\t176237\n",
      "\t\tCorporation:\t33139\n",
      "\t\tCandidate:\t2152\n",
      "\t\tLimited Liability Company:\t877\n",
      "\t\tOrganization:\t658\n",
      "\tMax length: 36\n",
      "  8. CONTRIBUTIONTYPE\n",
      "\t<class 'str'>\n",
      "\tNulls: True\n",
      "\tUnique values: 8\n",
      "\t5 most frequent values:\n",
      "\t\tCheck:\t131455\n",
      "\t\tCredit Card:\t47866\n",
      "\t\tOther:\t20196\n",
      "\t\tCash:\t9725\n",
      "\t\tInKind:\t2275\n",
      "\tMax length: 17\n",
      "  9. EMPLOYER\n",
      "\t<class 'str'>\n",
      "\tNulls: True\n",
      "\tUnique values: 31538\n",
      "\t5 most frequent values:\n",
      "\t\tRetired:\t6127\n",
      "\t\tSelf:\t4378\n",
      "\t\tRequested:\t3432\n",
      "\t\tVerizon Corp Rsrcs Group LLC:\t2808\n",
      "\t\tSelf Employed:\t2632\n",
      "\tMax length: 98\n",
      " 10. EMPLOYERADDRESS\n",
      "\t<class 'str'>\n",
      "\tNulls: True\n",
      "\tUnique values: 15817\n",
      "\t5 most frequent values:\n",
      "\t\tWashington, DC:\t47790\n",
      "\t\t1300 I Street NW, Washington, DC 20005:\t1523\n",
      "\t\t1300 I St NW, Washington, DC 200053314:\t1152\n",
      "\t\tWashington, DC 20016:\t1144\n",
      "\t\tWashington, DC 20007:\t991\n",
      "\tMax length: 78\n",
      " 11. AMOUNT\n",
      "\t<class 'float'>\n",
      "\tNulls: True\n",
      "\tMin: -31889.24\n",
      "\tMax: 400000.0\n",
      "\tSum: 80648811.36000001\n",
      "\tMean: 375.5159584295613\n",
      "\tMedian: 100.0\n",
      "\tStandard Deviation: 2372.0937891100707\n",
      "\tUnique values: 4555\n",
      "\t5 most frequent values:\n",
      "\t\t100.0:\t35824\n",
      "\t\t50.0:\t30843\n",
      "\t\t500.0:\t30543\n",
      "\t\t25.0:\t18531\n",
      "\t\t250.0:\t17177\n",
      " 12. DATEOFRECEIPT\n",
      "\t<class 'datetime.date'>\n",
      "\tNulls: False\n",
      "\tMin: 2003-01-01\n",
      "\tMax: 2019-01-01\n",
      "\tUnique values: 5139\n",
      "\t5 most frequent values:\n",
      "\t\t2014-01-31:\t886\n",
      "\t\t2008-12-12:\t881\n",
      "\t\t2014-10-10:\t858\n",
      "\t\t2014-03-10:\t840\n",
      "\t\t2014-06-10:\t673\n",
      " 13. ADDRESS_ID\n",
      "\t<class 'int'>\n",
      "\tNulls: True\n",
      "\tMin: 1\n",
      "\tMax: 316902\n",
      "\tSum: 27620700916\n",
      "\tMean: 210721.1861424964\n",
      "\tMedian: 241636\n",
      "\tStandard Deviation: 87745.68241309453\n",
      "\tUnique values: 25912\n",
      "\t5 most frequent values:\n",
      "\t\t240649:\t1204\n",
      "\t\t267739:\t593\n",
      "\t\t223998:\t502\n",
      "\t\t243303:\t384\n",
      "\t\t278801:\t375\n",
      " 14. XCOORD\n",
      "\t<class 'float'>\n",
      "\tNulls: True\n",
      "\tMin: 390132.6\n",
      "\tMax: 407709.43\n",
      "\tSum: 52081774592.85981\n",
      "\tMean: 397337.24904338527\n",
      "\tMedian: 397124.33\n",
      "\tStandard Deviation: 2986.577427077954\n",
      "\tUnique values: 25435\n",
      "\t5 most frequent values:\n",
      "\t\t397367.56:\t1204\n",
      "\t\t392501.0:\t593\n",
      "\t\t392652.26:\t502\n",
      "\t\t396475.11:\t384\n",
      "\t\t396632.21:\t375\n",
      " 15. YCOORD\n",
      "\t<class 'float'>\n",
      "\tNulls: True\n",
      "\tMin: 128008.03\n",
      "\tMax: 147511.84\n",
      "\tSum: 18255821905.80198\n",
      "\tMean: 139275.55487081624\n",
      "\tMedian: 138872.09\n",
      "\tStandard Deviation: 3489.3057179190278\n",
      "\tUnique values: 25411\n",
      "\t5 most frequent values:\n",
      "\t\t137015.98:\t1204\n",
      "\t\t143416.65:\t593\n",
      "\t\t140583.03:\t502\n",
      "\t\t137358.15:\t384\n",
      "\t\t137279.33:\t375\n",
      " 16. LATITUDE\n",
      "\t<class 'float'>\n",
      "\tNulls: True\n",
      "\tMin: 38.8198492990446\n",
      "\tMax: 38.9955393552194\n",
      "\tSum: 5101692.856583707\n",
      "\tMean: 38.92134284873553\n",
      "\tMedian: 38.9177151838825\n",
      "\tStandard Deviation: 0.031429878421729146\n",
      "\tUnique values: 25912\n",
      "\t5 most frequent values:\n",
      "\t\t38.9009930899946:\t1204\n",
      "\t\t38.9586242306721:\t593\n",
      "\t\t38.9330994734374:\t502\n",
      "\t\t38.9040723526341:\t384\n",
      "\t\t38.9033629303144:\t375\n",
      " 17. LONGITUDE\n",
      "\t<class 'float'>\n",
      "\tNulls: True\n",
      "\tMin: -77.1138096979972\n",
      "\tMax: -76.9111323425325\n",
      "\tSum: -10096954.752396148\n",
      "\tMean: -77.03071288171188\n",
      "\tMedian: -77.0331653904798\n",
      "\tStandard Deviation: 0.03444262024277123\n",
      "\tUnique values: 25912\n",
      "\t5 most frequent values:\n",
      "\t\t-77.0303476990004:\t1204\n",
      "\t\t-77.0865210361278:\t593\n",
      "\t\t-77.0847454980735:\t502\n",
      "\t\t-77.0406379329335:\t384\n",
      "\t\t-77.0388263641201:\t375\n",
      " 18. FULLADDRESS\n",
      "\t<class 'str'>\n",
      "\tNulls: True\n",
      "\tUnique values: 25944\n",
      "\t5 most frequent values:\n",
      "\t\t1300 I STREET NW:\t1204\n",
      "\t\t4400 JENIFER STREET NW:\t593\n",
      "\t\t3201 NEW MEXICO AVENUE NW:\t502\n",
      "\t\t1100 CONNECTICUT AVENUE NW:\t384\n",
      "\t\t1050 17TH STREET NW:\t375\n",
      "\tMax length: 58\n",
      " 19. GIS_LAST_MOD_DTTM\n",
      "\t<class 'datetime.datetime'>\n",
      "\tNulls: False\n",
      "\tValues: 2017-11-13 06:18:09+00:00\n",
      "\n",
      "Row count: 214975\n"
     ]
    }
   ],
   "source": [
    "!csvcut dc_contributions.csv | csvstat"
   ]
  },
  {
   "cell_type": "markdown",
   "metadata": {},
   "source": [
    "There are null values in colums of CANDIDATENAME, ELECTIONYEAR, CONTRIBUTORNAME, ADDRESS, CONTRIBUTORTYPE, CONTRIBUTIONTYPE, EMPLOYER, EMPLOYERADDRESS, AMOUNT, ADDRESS_ID, XCOORD, YCOORD, LATITUDE, LONGITUDE, FULLADDRESS."
   ]
  },
  {
   "cell_type": "markdown",
   "metadata": {},
   "source": [
    "ELECTIONYEAR, EMPLOYER, AMOUNT interst me most."
   ]
  },
  {
   "cell_type": "markdown",
   "metadata": {},
   "source": [
    "COMMITTEENAME,CANDIDATENAME,ELECTIONYEAR,AMOUNT,EMPLOYER provide the fact and the other columns provide the dimensions."
   ]
  },
  {
   "cell_type": "markdown",
   "metadata": {},
   "source": [
    "## Part 2 - create a database and load the data (40 points)\n",
    "Create and connect to a new database, create database tables in it based on the following provided star schema, and load this dataset into it. \n",
    "\n",
    "* `campaign` (`campaign_key`, `committee_name`, `candidate_name`, `election_year`)\n",
    "* `contributor` (`contributor_key`, `name`, `type`, `employer`)\n",
    "* `contribution_facts` (`campaign_key`, `contributor_key`, `amount`)"
   ]
  },
  {
   "cell_type": "code",
   "execution_count": 6,
   "metadata": {
    "collapsed": true
   },
   "outputs": [],
   "source": [
    "%load_ext sql"
   ]
  },
  {
   "cell_type": "code",
   "execution_count": 7,
   "metadata": {
    "collapsed": true
   },
   "outputs": [],
   "source": [
    "!dropdb --if-exists -U student assignment4"
   ]
  },
  {
   "cell_type": "code",
   "execution_count": 8,
   "metadata": {
    "collapsed": true
   },
   "outputs": [],
   "source": [
    "!createdb -U student assignment4"
   ]
  },
  {
   "cell_type": "code",
   "execution_count": 9,
   "metadata": {},
   "outputs": [
    {
     "data": {
      "text/plain": [
       "'Connected: student@assignment4'"
      ]
     },
     "execution_count": 9,
     "metadata": {},
     "output_type": "execute_result"
    }
   ],
   "source": [
    "%sql postgresql://student@/assignment4"
   ]
  },
  {
   "cell_type": "markdown",
   "metadata": {},
   "source": [
    "First, let's create the table `contribution_facts`:"
   ]
  },
  {
   "cell_type": "code",
   "execution_count": 10,
   "metadata": {},
   "outputs": [
    {
     "name": "stdout",
     "output_type": "stream",
     "text": [
      "Done.\n",
      "Done.\n"
     ]
    },
    {
     "data": {
      "text/plain": [
       "[]"
      ]
     },
     "execution_count": 10,
     "metadata": {},
     "output_type": "execute_result"
    }
   ],
   "source": [
    "%%sql\n",
    "DROP TABLE IF EXISTS contribution_facts;\n",
    "\n",
    "CREATE TABLE contribution_facts (\n",
    "    id INTEGER,\n",
    "    committee_name VARCHAR(500) NOT NULL,\n",
    "    candidate_name VARCHAR(50),\n",
    "    election_year INTEGER NOT NULL,\n",
    "    contributor_name VARCHAR(500),\n",
    "    contributor_address VARCHAR(500),\n",
    "    contributor_type VARCHAR(100),\n",
    "    contribution_type VARCHAR(100),\n",
    "    employer VARCHAR(500),\n",
    "    employer_address VARCHAR(500),\n",
    "    amount NUMERIC(20, 2),\n",
    "    date_of_receipt DATE NOT NULL,\n",
    "    address_id INTEGER,\n",
    "    address_x NUMERIC(20, 2),\n",
    "    address_y NUMERIC(20, 2),\n",
    "    address_latitude NUMERIC,\n",
    "    address_longitude NUMERIC,\n",
    "    address_full VARCHAR(500),\n",
    "    gis_last_mod TIMESTAMPTZ NOT NULL\n",
    ")"
   ]
  },
  {
   "cell_type": "markdown",
   "metadata": {},
   "source": [
    "** Question 2 (10 points)** :\n",
    "Load the dataset into the table `contribution_facts` and verify the loaded records.\n",
    "\n",
    "Hint: If you get some errors, please examine the error messages carefully and fix the problems, including any problems in the above CREATE TABLE statement.\n",
    "\n",
    "** Answer: **"
   ]
  },
  {
   "cell_type": "code",
   "execution_count": 11,
   "metadata": {
    "collapsed": true
   },
   "outputs": [],
   "source": [
    "!cp dc_contributions.csv /tmp/dc_contributions.csv"
   ]
  },
  {
   "cell_type": "markdown",
   "metadata": {},
   "source": [
    "There are null values in the election_year colums, which will cause the failure of loading data into contribution_facts table. I create a 'temp' table first."
   ]
  },
  {
   "cell_type": "code",
   "execution_count": 12,
   "metadata": {},
   "outputs": [
    {
     "name": "stdout",
     "output_type": "stream",
     "text": [
      "Done.\n",
      "Done.\n"
     ]
    },
    {
     "data": {
      "text/plain": [
       "[]"
      ]
     },
     "execution_count": 12,
     "metadata": {},
     "output_type": "execute_result"
    }
   ],
   "source": [
    "%%sql\n",
    "DROP TABLE IF EXISTS temp;\n",
    "\n",
    "CREATE TABLE temp (\n",
    "    id INTEGER,\n",
    "    committee_name VARCHAR(500) NOT NULL,\n",
    "    candidate_name VARCHAR(50),\n",
    "    election_year INTEGER,\n",
    "    contributor_name VARCHAR(500),\n",
    "    contributor_address VARCHAR(500),\n",
    "    contributor_type VARCHAR(100),\n",
    "    contribution_type VARCHAR(100),\n",
    "    employer VARCHAR(500),\n",
    "    employer_address VARCHAR(500),\n",
    "    amount NUMERIC(20, 2),\n",
    "    date_of_receipt DATE NOT NULL,\n",
    "    address_id INTEGER,\n",
    "    address_x NUMERIC(20, 2),\n",
    "    address_y NUMERIC(20, 2),\n",
    "    address_latitude NUMERIC,\n",
    "    address_longitude NUMERIC,\n",
    "    address_full VARCHAR(500),\n",
    "    gis_last_mod TIMESTAMPTZ NOT NULL\n",
    ")"
   ]
  },
  {
   "cell_type": "code",
   "execution_count": 13,
   "metadata": {},
   "outputs": [
    {
     "name": "stdout",
     "output_type": "stream",
     "text": [
      "214975 rows affected.\n"
     ]
    },
    {
     "data": {
      "text/plain": [
       "[]"
      ]
     },
     "execution_count": 13,
     "metadata": {},
     "output_type": "execute_result"
    }
   ],
   "source": [
    "%%sql\n",
    "COPY temp FROM '/tmp/dc_contributions.csv'\n",
    "CSV\n",
    "HEADER;"
   ]
  },
  {
   "cell_type": "markdown",
   "metadata": {},
   "source": [
    "Set all null value in election_year 1900."
   ]
  },
  {
   "cell_type": "code",
   "execution_count": 14,
   "metadata": {},
   "outputs": [
    {
     "name": "stdout",
     "output_type": "stream",
     "text": [
      "28 rows affected.\n"
     ]
    },
    {
     "data": {
      "text/plain": [
       "[]"
      ]
     },
     "execution_count": 14,
     "metadata": {},
     "output_type": "execute_result"
    }
   ],
   "source": [
    "%%sql\n",
    "UPDATE temp\n",
    "SET election_year = 1900\n",
    "WHERE election_year is null;"
   ]
  },
  {
   "cell_type": "code",
   "execution_count": 15,
   "metadata": {},
   "outputs": [
    {
     "name": "stdout",
     "output_type": "stream",
     "text": [
      "214975 rows affected.\n"
     ]
    },
    {
     "data": {
      "text/plain": [
       "[]"
      ]
     },
     "execution_count": 15,
     "metadata": {},
     "output_type": "execute_result"
    }
   ],
   "source": [
    "%%sql\n",
    "INSERT INTO contribution_facts (id,\n",
    "                                committee_name,\n",
    "                                candidate_name,\n",
    "                                election_year,\n",
    "                                contributor_name,\n",
    "                                contributor_address,\n",
    "                                contributor_type,\n",
    "                                contribution_type,\n",
    "                                employer,\n",
    "                                employer_address,\n",
    "                                amount,\n",
    "                                date_of_receipt,\n",
    "                                address_id,\n",
    "                                address_x,\n",
    "                                address_y,\n",
    "                                address_latitude,\n",
    "                                address_longitude,\n",
    "                                address_full,\n",
    "                                gis_last_mod)\n",
    "SELECT *\n",
    "FROM temp;"
   ]
  },
  {
   "cell_type": "code",
   "execution_count": 16,
   "metadata": {},
   "outputs": [
    {
     "name": "stdout",
     "output_type": "stream",
     "text": [
      "Done.\n"
     ]
    },
    {
     "data": {
      "text/plain": [
       "[]"
      ]
     },
     "execution_count": 16,
     "metadata": {},
     "output_type": "execute_result"
    }
   ],
   "source": [
    "%%sql\n",
    "DROP TABLE temp;"
   ]
  },
  {
   "cell_type": "markdown",
   "metadata": {},
   "source": [
    "** End of answer to Question 2 **"
   ]
  },
  {
   "cell_type": "markdown",
   "metadata": {},
   "source": [
    "Next, we are going to create the dimension table `contributor`. "
   ]
  },
  {
   "cell_type": "markdown",
   "metadata": {},
   "source": [
    "First let's work on the SELECT statement that extracts contributor-related dimension details like `contributor_name`, `contributor_type` and `employer`."
   ]
  },
  {
   "cell_type": "code",
   "execution_count": 17,
   "metadata": {},
   "outputs": [
    {
     "name": "stdout",
     "output_type": "stream",
     "text": [
      "10 rows affected.\n"
     ]
    },
    {
     "data": {
      "text/html": [
       "<table>\n",
       "    <tr>\n",
       "        <th>contributor_name</th>\n",
       "        <th>contributor_type</th>\n",
       "        <th>employer</th>\n",
       "    </tr>\n",
       "    <tr>\n",
       "        <td>None</td>\n",
       "        <td>None</td>\n",
       "        <td>None</td>\n",
       "    </tr>\n",
       "    <tr>\n",
       "        <td>Victor Ayala </td>\n",
       "        <td>Individual</td>\n",
       "        <td>DC Taxicab Commission</td>\n",
       "    </tr>\n",
       "    <tr>\n",
       "        <td>Harry Harrison</td>\n",
       "        <td>Individual</td>\n",
       "        <td>Aronson LLC</td>\n",
       "    </tr>\n",
       "    <tr>\n",
       "        <td>DC Development  &amp; Consulting LLC</td>\n",
       "        <td>Corporation</td>\n",
       "        <td>None</td>\n",
       "    </tr>\n",
       "    <tr>\n",
       "        <td>Virginia Contractors Supply Inc</td>\n",
       "        <td>Corporation</td>\n",
       "        <td>None</td>\n",
       "    </tr>\n",
       "    <tr>\n",
       "        <td>Euclid Mortgage Aservices</td>\n",
       "        <td>Corporation</td>\n",
       "        <td>None</td>\n",
       "    </tr>\n",
       "    <tr>\n",
       "        <td>Kool Smiles </td>\n",
       "        <td>Corporation</td>\n",
       "        <td>None</td>\n",
       "    </tr>\n",
       "    <tr>\n",
       "        <td>Summer Smith</td>\n",
       "        <td>Individual</td>\n",
       "        <td>Not reported</td>\n",
       "    </tr>\n",
       "    <tr>\n",
       "        <td>Shelly Waite</td>\n",
       "        <td>Individual</td>\n",
       "        <td>Waite Secured Line Technology Solutions LLC</td>\n",
       "    </tr>\n",
       "    <tr>\n",
       "        <td>Clark Ray</td>\n",
       "        <td>Individual</td>\n",
       "        <td>DC Governmnet</td>\n",
       "    </tr>\n",
       "</table>"
      ],
      "text/plain": [
       "[(None, None, None),\n",
       " ('Victor Ayala ', 'Individual', 'DC Taxicab Commission'),\n",
       " ('Harry Harrison', 'Individual', 'Aronson LLC'),\n",
       " ('DC Development  & Consulting LLC', 'Corporation', None),\n",
       " ('Virginia Contractors Supply Inc', 'Corporation', None),\n",
       " ('Euclid Mortgage Aservices', 'Corporation', None),\n",
       " ('Kool Smiles ', 'Corporation', None),\n",
       " ('Summer Smith', 'Individual', 'Not reported'),\n",
       " ('Shelly Waite', 'Individual', 'Waite Secured Line Technology Solutions LLC'),\n",
       " ('Clark Ray', 'Individual', 'DC Governmnet')]"
      ]
     },
     "execution_count": 17,
     "metadata": {},
     "output_type": "execute_result"
    }
   ],
   "source": [
    "%%sql\n",
    "SELECT DISTINCT contributor_name, contributor_type, employer\n",
    "FROM contribution_facts\n",
    "LIMIT 10;"
   ]
  },
  {
   "cell_type": "markdown",
   "metadata": {},
   "source": [
    "Please note NULLs in the query result. Now we can create the dimension table `contributor` to house the dimensions `contributor_name`, `contributor_type` and `employer`."
   ]
  },
  {
   "cell_type": "code",
   "execution_count": 18,
   "metadata": {},
   "outputs": [
    {
     "name": "stdout",
     "output_type": "stream",
     "text": [
      "Done.\n",
      "Done.\n"
     ]
    },
    {
     "data": {
      "text/plain": [
       "[]"
      ]
     },
     "execution_count": 18,
     "metadata": {},
     "output_type": "execute_result"
    }
   ],
   "source": [
    "%%sql\n",
    "DROP TABLE IF EXISTS contributor;\n",
    "\n",
    "CREATE TABLE contributor (\n",
    "    contributor_key SERIAL PRIMARY KEY,\n",
    "    name VARCHAR(500),\n",
    "    type VARCHAR(100),\n",
    "    employer VARCHAR(500)\n",
    ");"
   ]
  },
  {
   "cell_type": "markdown",
   "metadata": {},
   "source": [
    "Populate the dimension table with unique values of these three dimensions from the dataset."
   ]
  },
  {
   "cell_type": "code",
   "execution_count": 19,
   "metadata": {},
   "outputs": [
    {
     "name": "stdout",
     "output_type": "stream",
     "text": [
      "144249 rows affected.\n"
     ]
    },
    {
     "data": {
      "text/plain": [
       "[]"
      ]
     },
     "execution_count": 19,
     "metadata": {},
     "output_type": "execute_result"
    }
   ],
   "source": [
    "%%sql\n",
    "INSERT INTO contributor (name, type, employer)\n",
    "SELECT DISTINCT contributor_name, contributor_type, employer\n",
    "FROM contribution_facts;"
   ]
  },
  {
   "cell_type": "markdown",
   "metadata": {},
   "source": [
    "Next, we add a foreign key column to the fact table that references `contributor` dimension table."
   ]
  },
  {
   "cell_type": "code",
   "execution_count": 20,
   "metadata": {},
   "outputs": [
    {
     "name": "stdout",
     "output_type": "stream",
     "text": [
      "Done.\n"
     ]
    },
    {
     "data": {
      "text/plain": [
       "[]"
      ]
     },
     "execution_count": 20,
     "metadata": {},
     "output_type": "execute_result"
    }
   ],
   "source": [
    "%%sql\n",
    "ALTER TABLE contribution_facts\n",
    "ADD COLUMN contributor_key INTEGER,\n",
    "ADD CONSTRAINT fk_contributor_key\n",
    "    FOREIGN KEY (contributor_key)\n",
    "    REFERENCES contributor (contributor_key);"
   ]
  },
  {
   "cell_type": "code",
   "execution_count": 21,
   "metadata": {},
   "outputs": [
    {
     "name": "stdout",
     "output_type": "stream",
     "text": [
      "10 rows affected.\n"
     ]
    },
    {
     "data": {
      "text/html": [
       "<table>\n",
       "    <tr>\n",
       "        <th>contributor_key</th>\n",
       "    </tr>\n",
       "    <tr>\n",
       "        <td>None</td>\n",
       "    </tr>\n",
       "    <tr>\n",
       "        <td>None</td>\n",
       "    </tr>\n",
       "    <tr>\n",
       "        <td>None</td>\n",
       "    </tr>\n",
       "    <tr>\n",
       "        <td>None</td>\n",
       "    </tr>\n",
       "    <tr>\n",
       "        <td>None</td>\n",
       "    </tr>\n",
       "    <tr>\n",
       "        <td>None</td>\n",
       "    </tr>\n",
       "    <tr>\n",
       "        <td>None</td>\n",
       "    </tr>\n",
       "    <tr>\n",
       "        <td>None</td>\n",
       "    </tr>\n",
       "    <tr>\n",
       "        <td>None</td>\n",
       "    </tr>\n",
       "    <tr>\n",
       "        <td>None</td>\n",
       "    </tr>\n",
       "</table>"
      ],
      "text/plain": [
       "[(None,),\n",
       " (None,),\n",
       " (None,),\n",
       " (None,),\n",
       " (None,),\n",
       " (None,),\n",
       " (None,),\n",
       " (None,),\n",
       " (None,),\n",
       " (None,)]"
      ]
     },
     "execution_count": 21,
     "metadata": {},
     "output_type": "execute_result"
    }
   ],
   "source": [
    "%%sql\n",
    "SELECT contributor_key FROM contribution_facts\n",
    "LIMIT 10;"
   ]
  },
  {
   "cell_type": "markdown",
   "metadata": {},
   "source": [
    "As we can see, the values for the `contributor_key` are NULLs initially. We will populate `contributor_key` with correct values next."
   ]
  },
  {
   "cell_type": "markdown",
   "metadata": {},
   "source": [
    "First let's create an index on all columns in `contributor` to improve the performance of queries."
   ]
  },
  {
   "cell_type": "code",
   "execution_count": 22,
   "metadata": {},
   "outputs": [
    {
     "name": "stdout",
     "output_type": "stream",
     "text": [
      "Done.\n",
      "Done.\n"
     ]
    },
    {
     "data": {
      "text/plain": [
       "[]"
      ]
     },
     "execution_count": 22,
     "metadata": {},
     "output_type": "execute_result"
    }
   ],
   "source": [
    "%%sql\n",
    "DROP INDEX IF EXISTS idx_contributor;\n",
    "\n",
    "CREATE INDEX idx_contributor ON contributor (name, type, employer);"
   ]
  },
  {
   "cell_type": "code",
   "execution_count": 23,
   "metadata": {},
   "outputs": [
    {
     "name": "stdout",
     "output_type": "stream",
     "text": [
      "123395 rows affected.\n"
     ]
    },
    {
     "data": {
      "text/plain": [
       "[]"
      ]
     },
     "execution_count": 23,
     "metadata": {},
     "output_type": "execute_result"
    }
   ],
   "source": [
    "%%sql\n",
    "UPDATE contribution_facts\n",
    "SET contributor_key = contributor.contributor_key\n",
    "FROM contributor\n",
    "WHERE contribution_facts.contributor_name = contributor.name \n",
    "    AND contribution_facts.contributor_type = contributor.type \n",
    "    AND contribution_facts.employer = contributor.employer;"
   ]
  },
  {
   "cell_type": "markdown",
   "metadata": {},
   "source": [
    "** Question 3 (10 points) **:\n",
    "Have all rows in `contribution_facts` been updated by the above UPDATE statement? If not, explain why some rows weren't updated. Modify the UPDATE statement to fix it.\n",
    "\n",
    "** Answer: **"
   ]
  },
  {
   "cell_type": "markdown",
   "metadata": {},
   "source": [
    "Not all rows have been updated because there are null values in the employer and contributorname columns so the the rows have been updated."
   ]
  },
  {
   "cell_type": "code",
   "execution_count": 24,
   "metadata": {},
   "outputs": [
    {
     "name": "stdout",
     "output_type": "stream",
     "text": [
      "123395 rows affected.\n"
     ]
    },
    {
     "data": {
      "text/plain": [
       "[]"
      ]
     },
     "execution_count": 24,
     "metadata": {},
     "output_type": "execute_result"
    }
   ],
   "source": [
    "%%sql\n",
    "UPDATE contribution_facts\n",
    "SET contributor_key = contributor.contributor_key\n",
    "FROM contributor\n",
    "WHERE contribution_facts.contributor_name = contributor.name \n",
    "    AND contribution_facts.contributor_type = contributor.type \n",
    "    AND contribution_facts.employer = contributor.employer\n",
    "    AND contributor.employer is not null;"
   ]
  },
  {
   "cell_type": "code",
   "execution_count": 25,
   "metadata": {},
   "outputs": [
    {
     "name": "stdout",
     "output_type": "stream",
     "text": [
      "141047 rows affected.\n"
     ]
    },
    {
     "data": {
      "text/plain": [
       "[]"
      ]
     },
     "execution_count": 25,
     "metadata": {},
     "output_type": "execute_result"
    }
   ],
   "source": [
    "%%sql\n",
    "UPDATE contribution_facts\n",
    "SET contributor_key = contributor.contributor_key\n",
    "FROM contributor\n",
    "WHERE contribution_facts.contributor_name = contributor.name \n",
    "    AND contribution_facts.contributor_type = contributor.type \n",
    "    AND contributor.employer is null;"
   ]
  },
  {
   "cell_type": "code",
   "execution_count": 26,
   "metadata": {},
   "outputs": [
    {
     "name": "stdout",
     "output_type": "stream",
     "text": [
      "872 rows affected.\n"
     ]
    },
    {
     "data": {
      "text/plain": [
       "[]"
      ]
     },
     "execution_count": 26,
     "metadata": {},
     "output_type": "execute_result"
    }
   ],
   "source": [
    "%%sql\n",
    "UPDATE contribution_facts\n",
    "SET contributor_key = contributor.contributor_key\n",
    "FROM contributor\n",
    "WHERE contribution_facts.contributor_name = contributor.name \n",
    "    AND contributor.type is null\n",
    "    AND contributor.employer is null;"
   ]
  },
  {
   "cell_type": "markdown",
   "metadata": {},
   "source": [
    "** End of answer to Question 3 **"
   ]
  },
  {
   "cell_type": "markdown",
   "metadata": {},
   "source": [
    "** Question 4 (20 points) **:\n",
    "Now it is your turn to create and populate the dimension table `campaign`, add the campaign foreign key to the fact table and populate the foreign key values for all the facts.\n",
    "\n",
    "** Answer: **"
   ]
  },
  {
   "cell_type": "code",
   "execution_count": 27,
   "metadata": {},
   "outputs": [
    {
     "name": "stdout",
     "output_type": "stream",
     "text": [
      "10 rows affected.\n"
     ]
    },
    {
     "data": {
      "text/html": [
       "<table>\n",
       "    <tr>\n",
       "        <th>committee_name</th>\n",
       "        <th>candidate_name</th>\n",
       "        <th>election_year</th>\n",
       "    </tr>\n",
       "    <tr>\n",
       "        <td>Committee to Elect Tom Dawson</td>\n",
       "        <td>Thomas Dawson</td>\n",
       "        <td>2004</td>\n",
       "    </tr>\n",
       "    <tr>\n",
       "        <td>Committee to Elect Pranav Badhwar</td>\n",
       "        <td>Pranav Badhwar</td>\n",
       "        <td>2014</td>\n",
       "    </tr>\n",
       "    <tr>\n",
       "        <td>Milligan for Ward 4 Committee</td>\n",
       "        <td>Artee RT Milligan</td>\n",
       "        <td>2007</td>\n",
       "    </tr>\n",
       "    <tr>\n",
       "        <td>Barbara J. Clark</td>\n",
       "        <td>None</td>\n",
       "        <td>2016</td>\n",
       "    </tr>\n",
       "    <tr>\n",
       "        <td>Christopher Gabris</td>\n",
       "        <td>None</td>\n",
       "        <td>2015</td>\n",
       "    </tr>\n",
       "    <tr>\n",
       "        <td>Mendelson For Council 2002</td>\n",
       "        <td>Phil Mendelson</td>\n",
       "        <td>2002</td>\n",
       "    </tr>\n",
       "    <tr>\n",
       "        <td>Bob Ward</td>\n",
       "        <td>None</td>\n",
       "        <td>2016</td>\n",
       "    </tr>\n",
       "    <tr>\n",
       "        <td>Jahi for Ward 4</td>\n",
       "        <td>Baruti Jahi</td>\n",
       "        <td>2012</td>\n",
       "    </tr>\n",
       "    <tr>\n",
       "        <td>Phil Tsolakidis</td>\n",
       "        <td>None</td>\n",
       "        <td>2016</td>\n",
       "    </tr>\n",
       "    <tr>\n",
       "        <td>Stand for Marriage DC Initiative</td>\n",
       "        <td>None</td>\n",
       "        <td>2010</td>\n",
       "    </tr>\n",
       "</table>"
      ],
      "text/plain": [
       "[('Committee to Elect Tom Dawson', 'Thomas Dawson', 2004),\n",
       " ('Committee to Elect Pranav Badhwar', 'Pranav Badhwar', 2014),\n",
       " ('Milligan for Ward 4 Committee', 'Artee RT Milligan', 2007),\n",
       " ('Barbara J. Clark', None, 2016),\n",
       " ('Christopher Gabris', None, 2015),\n",
       " ('Mendelson For Council 2002', 'Phil Mendelson', 2002),\n",
       " ('Bob Ward', None, 2016),\n",
       " ('Jahi for Ward 4', 'Baruti Jahi', 2012),\n",
       " ('Phil Tsolakidis', None, 2016),\n",
       " ('Stand for Marriage DC Initiative', None, 2010)]"
      ]
     },
     "execution_count": 27,
     "metadata": {},
     "output_type": "execute_result"
    }
   ],
   "source": [
    "%%sql\n",
    "SELECT DISTINCT committee_name, candidate_name, election_year\n",
    "FROM contribution_facts\n",
    "LIMIT 10;"
   ]
  },
  {
   "cell_type": "code",
   "execution_count": 28,
   "metadata": {},
   "outputs": [
    {
     "name": "stdout",
     "output_type": "stream",
     "text": [
      "Done.\n",
      "Done.\n"
     ]
    },
    {
     "data": {
      "text/plain": [
       "[]"
      ]
     },
     "execution_count": 28,
     "metadata": {},
     "output_type": "execute_result"
    }
   ],
   "source": [
    "%%sql\n",
    "DROP TABLE IF EXISTS campaign;\n",
    "\n",
    "CREATE TABLE campaign (\n",
    "    campaign_key SERIAL PRIMARY KEY,\n",
    "    committee_name VARCHAR(500),\n",
    "    candidate_name VARCHAR(100),\n",
    "    election_year INT\n",
    ");"
   ]
  },
  {
   "cell_type": "code",
   "execution_count": 29,
   "metadata": {},
   "outputs": [
    {
     "name": "stdout",
     "output_type": "stream",
     "text": [
      "1238 rows affected.\n"
     ]
    },
    {
     "data": {
      "text/plain": [
       "[]"
      ]
     },
     "execution_count": 29,
     "metadata": {},
     "output_type": "execute_result"
    }
   ],
   "source": [
    "%%sql\n",
    "INSERT INTO campaign (committee_name, candidate_name, election_year)\n",
    "SELECT DISTINCT committee_name, candidate_name, election_year\n",
    "FROM contribution_facts;"
   ]
  },
  {
   "cell_type": "code",
   "execution_count": 30,
   "metadata": {},
   "outputs": [
    {
     "name": "stdout",
     "output_type": "stream",
     "text": [
      "Done.\n"
     ]
    },
    {
     "data": {
      "text/plain": [
       "[]"
      ]
     },
     "execution_count": 30,
     "metadata": {},
     "output_type": "execute_result"
    }
   ],
   "source": [
    "%%sql\n",
    "ALTER TABLE contribution_facts\n",
    "ADD COLUMN campaign_key INTEGER,\n",
    "ADD CONSTRAINT fk_campaign_key\n",
    "    FOREIGN KEY (campaign_key)\n",
    "    REFERENCES campaign (campaign_key);"
   ]
  },
  {
   "cell_type": "code",
   "execution_count": 31,
   "metadata": {},
   "outputs": [
    {
     "name": "stdout",
     "output_type": "stream",
     "text": [
      "Done.\n",
      "Done.\n"
     ]
    },
    {
     "data": {
      "text/plain": [
       "[]"
      ]
     },
     "execution_count": 31,
     "metadata": {},
     "output_type": "execute_result"
    }
   ],
   "source": [
    "%%sql\n",
    "DROP INDEX IF EXISTS idx_campaign;\n",
    "\n",
    "CREATE INDEX idx_campaign ON campaign (committee_name, candidate_name, election_year);"
   ]
  },
  {
   "cell_type": "code",
   "execution_count": 32,
   "metadata": {},
   "outputs": [
    {
     "name": "stdout",
     "output_type": "stream",
     "text": [
      "196801 rows affected.\n"
     ]
    },
    {
     "data": {
      "text/plain": [
       "[]"
      ]
     },
     "execution_count": 32,
     "metadata": {},
     "output_type": "execute_result"
    }
   ],
   "source": [
    "%%sql\n",
    "UPDATE contribution_facts\n",
    "SET campaign_key = campaign.campaign_key\n",
    "FROM campaign\n",
    "WHERE contribution_facts.committee_name = campaign.committee_name \n",
    "    AND contribution_facts.candidate_name = campaign.candidate_name \n",
    "    AND contribution_facts.election_year = campaign.election_year\n",
    "    AND campaign.candidate_name is not null;"
   ]
  },
  {
   "cell_type": "code",
   "execution_count": 33,
   "metadata": {},
   "outputs": [
    {
     "name": "stdout",
     "output_type": "stream",
     "text": [
      "18343 rows affected.\n"
     ]
    },
    {
     "data": {
      "text/plain": [
       "[]"
      ]
     },
     "execution_count": 33,
     "metadata": {},
     "output_type": "execute_result"
    }
   ],
   "source": [
    "%%sql\n",
    "UPDATE contribution_facts\n",
    "SET campaign_key = campaign.campaign_key\n",
    "FROM campaign\n",
    "WHERE contribution_facts.committee_name = campaign.committee_name \n",
    "    AND campaign.candidate_name is null\n",
    "    AND contribution_facts.election_year = campaign.election_year;"
   ]
  },
  {
   "cell_type": "markdown",
   "metadata": {},
   "source": [
    "** End of answer to Question 4 **"
   ]
  },
  {
   "cell_type": "markdown",
   "metadata": {},
   "source": [
    "We can now remove all columns in `contribution_facts` that are not facts nor foreign keys of dimension tables."
   ]
  },
  {
   "cell_type": "code",
   "execution_count": 34,
   "metadata": {},
   "outputs": [
    {
     "name": "stdout",
     "output_type": "stream",
     "text": [
      "Done.\n"
     ]
    },
    {
     "data": {
      "text/plain": [
       "[]"
      ]
     },
     "execution_count": 34,
     "metadata": {},
     "output_type": "execute_result"
    }
   ],
   "source": [
    "%%sql\n",
    "ALTER TABLE contribution_facts\n",
    "DROP COLUMN id,\n",
    "DROP COLUMN committee_name,\n",
    "DROP COLUMN candidate_name,\n",
    "DROP COLUMN election_year,\n",
    "DROP COLUMN contributor_name,\n",
    "DROP COLUMN contributor_address,\n",
    "DROP COLUMN contributor_type,\n",
    "DROP COLUMN contribution_type,\n",
    "DROP COLUMN employer,\n",
    "DROP COLUMN employer_address,\n",
    "DROP COLUMN address_id,\n",
    "DROP COLUMN address_x,\n",
    "DROP COLUMN address_y,\n",
    "DROP COLUMN address_latitude,\n",
    "DROP COLUMN address_longitude,\n",
    "DROP COLUMN address_full,\n",
    "DROP COLUMN gis_last_mod;"
   ]
  },
  {
   "cell_type": "code",
   "execution_count": 35,
   "metadata": {
    "scrolled": true
   },
   "outputs": [
    {
     "name": "stdout",
     "output_type": "stream",
     "text": [
      "10 rows affected.\n"
     ]
    },
    {
     "data": {
      "text/html": [
       "<table>\n",
       "    <tr>\n",
       "        <th>amount</th>\n",
       "        <th>date_of_receipt</th>\n",
       "        <th>contributor_key</th>\n",
       "        <th>campaign_key</th>\n",
       "    </tr>\n",
       "    <tr>\n",
       "        <td>50.00</td>\n",
       "        <td>2010-07-16</td>\n",
       "        <td>44971</td>\n",
       "        <td>526</td>\n",
       "    </tr>\n",
       "    <tr>\n",
       "        <td>100.00</td>\n",
       "        <td>2013-09-16</td>\n",
       "        <td>42367</td>\n",
       "        <td>685</td>\n",
       "    </tr>\n",
       "    <tr>\n",
       "        <td>201.00</td>\n",
       "        <td>2011-04-12</td>\n",
       "        <td>107499</td>\n",
       "        <td>940</td>\n",
       "    </tr>\n",
       "    <tr>\n",
       "        <td>75.00</td>\n",
       "        <td>2006-09-04</td>\n",
       "        <td>72824</td>\n",
       "        <td>32</td>\n",
       "    </tr>\n",
       "    <tr>\n",
       "        <td>500.00</td>\n",
       "        <td>2009-01-29</td>\n",
       "        <td>29591</td>\n",
       "        <td>90</td>\n",
       "    </tr>\n",
       "    <tr>\n",
       "        <td>200.00</td>\n",
       "        <td>2014-03-07</td>\n",
       "        <td>12617</td>\n",
       "        <td>705</td>\n",
       "    </tr>\n",
       "    <tr>\n",
       "        <td>51.00</td>\n",
       "        <td>2011-09-30</td>\n",
       "        <td>61779</td>\n",
       "        <td>1168</td>\n",
       "    </tr>\n",
       "    <tr>\n",
       "        <td>51.00</td>\n",
       "        <td>2014-07-31</td>\n",
       "        <td>134832</td>\n",
       "        <td>179</td>\n",
       "    </tr>\n",
       "    <tr>\n",
       "        <td>75.00</td>\n",
       "        <td>2016-01-14</td>\n",
       "        <td>134832</td>\n",
       "        <td>219</td>\n",
       "    </tr>\n",
       "    <tr>\n",
       "        <td>75.00</td>\n",
       "        <td>2006-07-06</td>\n",
       "        <td>21599</td>\n",
       "        <td>32</td>\n",
       "    </tr>\n",
       "</table>"
      ],
      "text/plain": [
       "[(Decimal('50.00'), datetime.date(2010, 7, 16), 44971, 526),\n",
       " (Decimal('100.00'), datetime.date(2013, 9, 16), 42367, 685),\n",
       " (Decimal('201.00'), datetime.date(2011, 4, 12), 107499, 940),\n",
       " (Decimal('75.00'), datetime.date(2006, 9, 4), 72824, 32),\n",
       " (Decimal('500.00'), datetime.date(2009, 1, 29), 29591, 90),\n",
       " (Decimal('200.00'), datetime.date(2014, 3, 7), 12617, 705),\n",
       " (Decimal('51.00'), datetime.date(2011, 9, 30), 61779, 1168),\n",
       " (Decimal('51.00'), datetime.date(2014, 7, 31), 134832, 179),\n",
       " (Decimal('75.00'), datetime.date(2016, 1, 14), 134832, 219),\n",
       " (Decimal('75.00'), datetime.date(2006, 7, 6), 21599, 32)]"
      ]
     },
     "execution_count": 35,
     "metadata": {},
     "output_type": "execute_result"
    }
   ],
   "source": [
    "%%sql\n",
    "select * from contribution_facts limit 10;"
   ]
  },
  {
   "cell_type": "markdown",
   "metadata": {},
   "source": [
    "## Part 3 - explore your data (30 points)\n",
    "\n",
    "** Question 5 **:\n",
    "Now that the data is loaded, ask at least a couple of questions of it!  Choose and define a few lines of inquiry, execute queries for each, and describe what you find in your result sets.  \n",
    "\n",
    "If you find interesting patterns, adding plots to your exploration would be useful.\n",
    "\n",
    "Insert a combination of code and text/markdown cells here to explore your data.\n",
    "\n",
    "**Answer**:"
   ]
  },
  {
   "cell_type": "code",
   "execution_count": 36,
   "metadata": {
    "collapsed": true
   },
   "outputs": [],
   "source": [
    "%matplotlib inline"
   ]
  },
  {
   "cell_type": "markdown",
   "metadata": {},
   "source": [
    "** Question : ** What is trend of total contribution by year?"
   ]
  },
  {
   "cell_type": "code",
   "execution_count": 37,
   "metadata": {},
   "outputs": [
    {
     "name": "stdout",
     "output_type": "stream",
     "text": [
      "15 rows affected.\n"
     ]
    },
    {
     "data": {
      "text/html": [
       "<table>\n",
       "    <tr>\n",
       "        <th>year</th>\n",
       "        <th>total_amount</th>\n",
       "    </tr>\n",
       "    <tr>\n",
       "        <td>2003.0</td>\n",
       "        <td>2047031.87</td>\n",
       "    </tr>\n",
       "    <tr>\n",
       "        <td>2004.0</td>\n",
       "        <td>4419645.70</td>\n",
       "    </tr>\n",
       "    <tr>\n",
       "        <td>2005.0</td>\n",
       "        <td>3683497.31</td>\n",
       "    </tr>\n",
       "    <tr>\n",
       "        <td>2006.0</td>\n",
       "        <td>12286710.30</td>\n",
       "    </tr>\n",
       "    <tr>\n",
       "        <td>2007.0</td>\n",
       "        <td>3833537.96</td>\n",
       "    </tr>\n",
       "    <tr>\n",
       "        <td>2008.0</td>\n",
       "        <td>5866555.02</td>\n",
       "    </tr>\n",
       "    <tr>\n",
       "        <td>2009.0</td>\n",
       "        <td>3973221.61</td>\n",
       "    </tr>\n",
       "    <tr>\n",
       "        <td>2010.0</td>\n",
       "        <td>9576191.63</td>\n",
       "    </tr>\n",
       "    <tr>\n",
       "        <td>2011.0</td>\n",
       "        <td>3313014.20</td>\n",
       "    </tr>\n",
       "    <tr>\n",
       "        <td>2012.0</td>\n",
       "        <td>3433340.78</td>\n",
       "    </tr>\n",
       "    <tr>\n",
       "        <td>2013.0</td>\n",
       "        <td>6038005.22</td>\n",
       "    </tr>\n",
       "    <tr>\n",
       "        <td>2014.0</td>\n",
       "        <td>13034038.84</td>\n",
       "    </tr>\n",
       "    <tr>\n",
       "        <td>2015.0</td>\n",
       "        <td>3671659.50</td>\n",
       "    </tr>\n",
       "    <tr>\n",
       "        <td>2016.0</td>\n",
       "        <td>4375122.06</td>\n",
       "    </tr>\n",
       "    <tr>\n",
       "        <td>2017.0</td>\n",
       "        <td>1096543.39</td>\n",
       "    </tr>\n",
       "</table>"
      ],
      "text/plain": [
       "[(2003.0, Decimal('2047031.87')),\n",
       " (2004.0, Decimal('4419645.70')),\n",
       " (2005.0, Decimal('3683497.31')),\n",
       " (2006.0, Decimal('12286710.30')),\n",
       " (2007.0, Decimal('3833537.96')),\n",
       " (2008.0, Decimal('5866555.02')),\n",
       " (2009.0, Decimal('3973221.61')),\n",
       " (2010.0, Decimal('9576191.63')),\n",
       " (2011.0, Decimal('3313014.20')),\n",
       " (2012.0, Decimal('3433340.78')),\n",
       " (2013.0, Decimal('6038005.22')),\n",
       " (2014.0, Decimal('13034038.84')),\n",
       " (2015.0, Decimal('3671659.50')),\n",
       " (2016.0, Decimal('4375122.06')),\n",
       " (2017.0, Decimal('1096543.39'))]"
      ]
     },
     "execution_count": 37,
     "metadata": {},
     "output_type": "execute_result"
    }
   ],
   "source": [
    "%%sql\n",
    "SELECT extract(year from date_of_receipt) AS year, sum(amount) AS total_amount\n",
    "FROM contribution_facts\n",
    "WHERE date_of_receipt <= now()\n",
    "GROUP BY year\n",
    "ORDER BY year"
   ]
  },
  {
   "cell_type": "code",
   "execution_count": 38,
   "metadata": {},
   "outputs": [
    {
     "data": {
      "text/plain": [
       "<Container object of 15 artists>"
      ]
     },
     "execution_count": 38,
     "metadata": {},
     "output_type": "execute_result"
    },
    {
     "data": {
      "image/png": "[encoded data removed]",
      "text/plain": [
       "<matplotlib.figure.Figure at 0x7f36592d6fd0>"
      ]
     },
     "metadata": {},
     "output_type": "display_data"
    }
   ],
   "source": [
    "_.bar()"
   ]
  },
  {
   "cell_type": "markdown",
   "metadata": {},
   "source": [
    "We can see that the peaks of contribution appeared every four years (2006, 2010, 2014), when the elections of the mayor of DC took place. It can be inferred that the contributions are highly correlated to the mayor elections."
   ]
  },
  {
   "cell_type": "markdown",
   "metadata": {},
   "source": [
    "** Question: ** Who received the most by year?"
   ]
  },
  {
   "cell_type": "code",
   "execution_count": 39,
   "metadata": {},
   "outputs": [
    {
     "name": "stdout",
     "output_type": "stream",
     "text": [
      "15 rows affected.\n"
     ]
    },
    {
     "data": {
      "text/html": [
       "<table>\n",
       "    <tr>\n",
       "        <th>year</th>\n",
       "        <th>candidate</th>\n",
       "        <th>max</th>\n",
       "    </tr>\n",
       "    <tr>\n",
       "        <td>2003.0</td>\n",
       "        <td>Lankward Smith</td>\n",
       "        <td>447059.46</td>\n",
       "    </tr>\n",
       "    <tr>\n",
       "        <td>2004.0</td>\n",
       "        <td>Harold Brazil</td>\n",
       "        <td>379679.57</td>\n",
       "    </tr>\n",
       "    <tr>\n",
       "        <td>2005.0</td>\n",
       "        <td>Adrian Fenty</td>\n",
       "        <td>686202.73</td>\n",
       "    </tr>\n",
       "    <tr>\n",
       "        <td>2006.0</td>\n",
       "        <td>Adrian Fenty</td>\n",
       "        <td>3220083.21</td>\n",
       "    </tr>\n",
       "    <tr>\n",
       "        <td>2007.0</td>\n",
       "        <td>Muriel Bowser</td>\n",
       "        <td>497324.27</td>\n",
       "    </tr>\n",
       "    <tr>\n",
       "        <td>2008.0</td>\n",
       "        <td>Adrian Fenty</td>\n",
       "        <td>1941816.93</td>\n",
       "    </tr>\n",
       "    <tr>\n",
       "        <td>2009.0</td>\n",
       "        <td>Adrian Fenty</td>\n",
       "        <td>1828334.36</td>\n",
       "    </tr>\n",
       "    <tr>\n",
       "        <td>2010.0</td>\n",
       "        <td>Vincent Gray</td>\n",
       "        <td>2744713.83</td>\n",
       "    </tr>\n",
       "    <tr>\n",
       "        <td>2011.0</td>\n",
       "        <td>Vincent Orange</td>\n",
       "        <td>471288.09</td>\n",
       "    </tr>\n",
       "    <tr>\n",
       "        <td>2012.0</td>\n",
       "        <td>Phil Mendelson</td>\n",
       "        <td>271092.55</td>\n",
       "    </tr>\n",
       "    <tr>\n",
       "        <td>2013.0</td>\n",
       "        <td>Jack Evans</td>\n",
       "        <td>1096943.84</td>\n",
       "    </tr>\n",
       "    <tr>\n",
       "        <td>2014.0</td>\n",
       "        <td>Muriel Bowser</td>\n",
       "        <td>2698703.42</td>\n",
       "    </tr>\n",
       "    <tr>\n",
       "        <td>2015.0</td>\n",
       "        <td>Brandon Todd</td>\n",
       "        <td>491701.46</td>\n",
       "    </tr>\n",
       "    <tr>\n",
       "        <td>2016.0</td>\n",
       "        <td>Robert White</td>\n",
       "        <td>418709.86</td>\n",
       "    </tr>\n",
       "    <tr>\n",
       "        <td>2017.0</td>\n",
       "        <td>Brianne Nadeau</td>\n",
       "        <td>189908.80</td>\n",
       "    </tr>\n",
       "</table>"
      ],
      "text/plain": [
       "[(2003.0, 'Lankward Smith', Decimal('447059.46')),\n",
       " (2004.0, 'Harold Brazil', Decimal('379679.57')),\n",
       " (2005.0, 'Adrian Fenty', Decimal('686202.73')),\n",
       " (2006.0, 'Adrian Fenty', Decimal('3220083.21')),\n",
       " (2007.0, 'Muriel Bowser', Decimal('497324.27')),\n",
       " (2008.0, 'Adrian Fenty', Decimal('1941816.93')),\n",
       " (2009.0, 'Adrian Fenty', Decimal('1828334.36')),\n",
       " (2010.0, 'Vincent Gray', Decimal('2744713.83')),\n",
       " (2011.0, 'Vincent Orange', Decimal('471288.09')),\n",
       " (2012.0, 'Phil Mendelson', Decimal('271092.55')),\n",
       " (2013.0, 'Jack Evans', Decimal('1096943.84')),\n",
       " (2014.0, 'Muriel Bowser', Decimal('2698703.42')),\n",
       " (2015.0, 'Brandon Todd', Decimal('491701.46')),\n",
       " (2016.0, 'Robert White', Decimal('418709.86')),\n",
       " (2017.0, 'Brianne Nadeau', Decimal('189908.80'))]"
      ]
     },
     "execution_count": 39,
     "metadata": {},
     "output_type": "execute_result"
    }
   ],
   "source": [
    "%%sql\n",
    "SELECT c.year, c.candidate, h.MAX\n",
    "FROM\n",
    "(SELECT extract(year from a.date_of_receipt) AS year, b.candidate_name AS candidate, sum(a.amount) AS amount\n",
    " FROM contribution_facts AS a\n",
    " JOIN campaign AS b\n",
    " ON a.campaign_key = b.campaign_key\n",
    " WHERE b.candidate_name is not null\n",
    " GROUP BY year, candidate) AS c\n",
    "JOIN\n",
    "(SELECT g.year, MAX(g.amount) AS MAX\n",
    " FROM\n",
    " (SELECT extract(year from e.date_of_receipt) AS year, f.candidate_name AS candidate, sum(e.amount) AS amount\n",
    "  FROM contribution_facts AS e\n",
    "  JOIN campaign AS f\n",
    "  ON e.campaign_key = f.campaign_key\n",
    "  WHERE f.candidate_name is not null\n",
    "  GROUP BY year, candidate) AS g\n",
    " GROUP BY year) AS h\n",
    "ON c.year = h.year\n",
    "WHERE c.amount = h.MAX\n",
    "ORDER BY c.year"
   ]
  },
  {
   "cell_type": "code",
   "execution_count": 40,
   "metadata": {},
   "outputs": [
    {
     "name": "stdout",
     "output_type": "stream",
     "text": [
      "15 rows affected.\n"
     ]
    },
    {
     "data": {
      "text/html": [
       "<table>\n",
       "    <tr>\n",
       "        <th>year</th>\n",
       "        <th>max</th>\n",
       "    </tr>\n",
       "    <tr>\n",
       "        <td>2003.0</td>\n",
       "        <td>447059.46</td>\n",
       "    </tr>\n",
       "    <tr>\n",
       "        <td>2004.0</td>\n",
       "        <td>379679.57</td>\n",
       "    </tr>\n",
       "    <tr>\n",
       "        <td>2005.0</td>\n",
       "        <td>686202.73</td>\n",
       "    </tr>\n",
       "    <tr>\n",
       "        <td>2006.0</td>\n",
       "        <td>3220083.21</td>\n",
       "    </tr>\n",
       "    <tr>\n",
       "        <td>2007.0</td>\n",
       "        <td>497324.27</td>\n",
       "    </tr>\n",
       "    <tr>\n",
       "        <td>2008.0</td>\n",
       "        <td>1941816.93</td>\n",
       "    </tr>\n",
       "    <tr>\n",
       "        <td>2009.0</td>\n",
       "        <td>1828334.36</td>\n",
       "    </tr>\n",
       "    <tr>\n",
       "        <td>2010.0</td>\n",
       "        <td>2744713.83</td>\n",
       "    </tr>\n",
       "    <tr>\n",
       "        <td>2011.0</td>\n",
       "        <td>471288.09</td>\n",
       "    </tr>\n",
       "    <tr>\n",
       "        <td>2012.0</td>\n",
       "        <td>271092.55</td>\n",
       "    </tr>\n",
       "    <tr>\n",
       "        <td>2013.0</td>\n",
       "        <td>1096943.84</td>\n",
       "    </tr>\n",
       "    <tr>\n",
       "        <td>2014.0</td>\n",
       "        <td>2698703.42</td>\n",
       "    </tr>\n",
       "    <tr>\n",
       "        <td>2015.0</td>\n",
       "        <td>491701.46</td>\n",
       "    </tr>\n",
       "    <tr>\n",
       "        <td>2016.0</td>\n",
       "        <td>418709.86</td>\n",
       "    </tr>\n",
       "    <tr>\n",
       "        <td>2017.0</td>\n",
       "        <td>189908.80</td>\n",
       "    </tr>\n",
       "</table>"
      ],
      "text/plain": [
       "[(2003.0, Decimal('447059.46')),\n",
       " (2004.0, Decimal('379679.57')),\n",
       " (2005.0, Decimal('686202.73')),\n",
       " (2006.0, Decimal('3220083.21')),\n",
       " (2007.0, Decimal('497324.27')),\n",
       " (2008.0, Decimal('1941816.93')),\n",
       " (2009.0, Decimal('1828334.36')),\n",
       " (2010.0, Decimal('2744713.83')),\n",
       " (2011.0, Decimal('471288.09')),\n",
       " (2012.0, Decimal('271092.55')),\n",
       " (2013.0, Decimal('1096943.84')),\n",
       " (2014.0, Decimal('2698703.42')),\n",
       " (2015.0, Decimal('491701.46')),\n",
       " (2016.0, Decimal('418709.86')),\n",
       " (2017.0, Decimal('189908.80'))]"
      ]
     },
     "execution_count": 40,
     "metadata": {},
     "output_type": "execute_result"
    }
   ],
   "source": [
    "%%sql\n",
    "SELECT g.year, MAX(g.amount) AS MAX\n",
    " FROM\n",
    " (SELECT extract(year from e.date_of_receipt) AS year, f.candidate_name AS candidate, sum(e.amount) AS amount\n",
    "  FROM contribution_facts AS e\n",
    "  JOIN campaign AS f\n",
    "  ON e.campaign_key = f.campaign_key\n",
    "  WHERE f.candidate_name is not null\n",
    "  GROUP BY year, candidate) AS g\n",
    " GROUP BY year"
   ]
  },
  {
   "cell_type": "code",
   "execution_count": 41,
   "metadata": {},
   "outputs": [
    {
     "data": {
      "text/plain": [
       "<Container object of 15 artists>"
      ]
     },
     "execution_count": 41,
     "metadata": {},
     "output_type": "execute_result"
    },
    {
     "data": {
      "image/png": "[encoded data removed]",
      "text/plain": [
       "<matplotlib.figure.Figure at 0x7f3659037c88>"
      ]
     },
     "metadata": {},
     "output_type": "display_data"
    }
   ],
   "source": [
    "_.bar()"
   ]
  },
  {
   "cell_type": "markdown",
   "metadata": {},
   "source": [
    "From the result, we can see that Adrian Fentry received the most contributions for 4 times from 2005 to 2009. Adrian was the member of Council of DC from 2001 to 2007 and then was elected as Mayor of DC. He was an active politician and the results above was coincided with his campaign."
   ]
  },
  {
   "cell_type": "markdown",
   "metadata": {
    "collapsed": true
   },
   "source": [
    "**Question : **\n",
    "Who contributed the most by year?"
   ]
  },
  {
   "cell_type": "code",
   "execution_count": 42,
   "metadata": {},
   "outputs": [
    {
     "name": "stdout",
     "output_type": "stream",
     "text": [
      "15 rows affected.\n"
     ]
    },
    {
     "data": {
      "text/html": [
       "<table>\n",
       "    <tr>\n",
       "        <th>year</th>\n",
       "        <th>contributor</th>\n",
       "        <th>max</th>\n",
       "    </tr>\n",
       "    <tr>\n",
       "        <td>2003.0</td>\n",
       "        <td>Citizens to Re-Elect Cropp Chair</td>\n",
       "        <td>133383.65</td>\n",
       "    </tr>\n",
       "    <tr>\n",
       "        <td>2004.0</td>\n",
       "        <td>North Atlantic Investments, LLC</td>\n",
       "        <td>1370900.00</td>\n",
       "    </tr>\n",
       "    <tr>\n",
       "        <td>2005.0</td>\n",
       "        <td>Atlantic Northstar, LLC</td>\n",
       "        <td>523498.51</td>\n",
       "    </tr>\n",
       "    <tr>\n",
       "        <td>2006.0</td>\n",
       "        <td>Atlantic Northstar, LLC</td>\n",
       "        <td>840366.64</td>\n",
       "    </tr>\n",
       "    <tr>\n",
       "        <td>2007.0</td>\n",
       "        <td>Fenty 2006</td>\n",
       "        <td>400000.00</td>\n",
       "    </tr>\n",
       "    <tr>\n",
       "        <td>2008.0</td>\n",
       "        <td>Fenty 2006</td>\n",
       "        <td>313478.52</td>\n",
       "    </tr>\n",
       "    <tr>\n",
       "        <td>2009.0</td>\n",
       "        <td>Receipts Not Reported PNC Bank</td>\n",
       "        <td>152345.00</td>\n",
       "    </tr>\n",
       "    <tr>\n",
       "        <td>2010.0</td>\n",
       "        <td>American Federation of Teachers</td>\n",
       "        <td>381368.00</td>\n",
       "    </tr>\n",
       "    <tr>\n",
       "        <td>2011.0</td>\n",
       "        <td>SEIU MD/DC State Council</td>\n",
       "        <td>105451.93</td>\n",
       "    </tr>\n",
       "    <tr>\n",
       "        <td>2012.0</td>\n",
       "        <td>SEIU MD/DC State Council</td>\n",
       "        <td>109755.13</td>\n",
       "    </tr>\n",
       "    <tr>\n",
       "        <td>2013.0</td>\n",
       "        <td>Cumlative todate reported per audit</td>\n",
       "        <td>266329.44</td>\n",
       "    </tr>\n",
       "    <tr>\n",
       "        <td>2014.0</td>\n",
       "        <td>UNITE HERE LOCAL 25</td>\n",
       "        <td>371000.00</td>\n",
       "    </tr>\n",
       "    <tr>\n",
       "        <td>2015.0</td>\n",
       "        <td>DC Proud Inaugural Committee</td>\n",
       "        <td>109168.17</td>\n",
       "    </tr>\n",
       "    <tr>\n",
       "        <td>2016.0</td>\n",
       "        <td>ALICE WALTON</td>\n",
       "        <td>275000.00</td>\n",
       "    </tr>\n",
       "    <tr>\n",
       "        <td>2017.0</td>\n",
       "        <td>Evans 2016</td>\n",
       "        <td>132751.27</td>\n",
       "    </tr>\n",
       "</table>"
      ],
      "text/plain": [
       "[(2003.0, 'Citizens to Re-Elect Cropp Chair', Decimal('133383.65')),\n",
       " (2004.0, 'North Atlantic Investments, LLC', Decimal('1370900.00')),\n",
       " (2005.0, 'Atlantic Northstar, LLC', Decimal('523498.51')),\n",
       " (2006.0, 'Atlantic Northstar, LLC', Decimal('840366.64')),\n",
       " (2007.0, 'Fenty 2006', Decimal('400000.00')),\n",
       " (2008.0, 'Fenty 2006', Decimal('313478.52')),\n",
       " (2009.0, 'Receipts Not Reported PNC Bank', Decimal('152345.00')),\n",
       " (2010.0, 'American Federation of Teachers', Decimal('381368.00')),\n",
       " (2011.0, 'SEIU MD/DC State Council', Decimal('105451.93')),\n",
       " (2012.0, 'SEIU MD/DC State Council', Decimal('109755.13')),\n",
       " (2013.0, 'Cumlative todate reported per audit', Decimal('266329.44')),\n",
       " (2014.0, 'UNITE HERE LOCAL 25', Decimal('371000.00')),\n",
       " (2015.0, 'DC Proud Inaugural Committee', Decimal('109168.17')),\n",
       " (2016.0, 'ALICE WALTON', Decimal('275000.00')),\n",
       " (2017.0, 'Evans 2016', Decimal('132751.27'))]"
      ]
     },
     "execution_count": 42,
     "metadata": {},
     "output_type": "execute_result"
    }
   ],
   "source": [
    "%%sql\n",
    "SELECT c.year, c.contributor, h.MAX\n",
    "FROM\n",
    "(SELECT extract(year from a.date_of_receipt) AS year, b.name AS contributor, sum(a.amount) AS amount\n",
    " FROM contribution_facts AS a\n",
    " JOIN contributor AS b\n",
    " ON a.contributor_key = b.contributor_key\n",
    " GROUP BY year, contributor) AS c\n",
    "JOIN\n",
    "(SELECT g.year, MAX(g.amount) AS MAX\n",
    " FROM\n",
    " (SELECT extract(year from e.date_of_receipt) AS year, f.name AS contributor, sum(e.amount) AS amount\n",
    "  FROM contribution_facts AS e\n",
    "  JOIN contributor AS f\n",
    "  ON e.contributor_key = f.contributor_key\n",
    "  GROUP BY year, contributor) AS g\n",
    " GROUP BY year) AS h\n",
    "ON c.year = h.year\n",
    "WHERE c.amount = h.MAX\n",
    "ORDER BY c.year"
   ]
  },
  {
   "cell_type": "code",
   "execution_count": 43,
   "metadata": {},
   "outputs": [
    {
     "name": "stdout",
     "output_type": "stream",
     "text": [
      "15 rows affected.\n"
     ]
    },
    {
     "data": {
      "text/html": [
       "<table>\n",
       "    <tr>\n",
       "        <th>year</th>\n",
       "        <th>max</th>\n",
       "    </tr>\n",
       "    <tr>\n",
       "        <td>2003.0</td>\n",
       "        <td>133383.65</td>\n",
       "    </tr>\n",
       "    <tr>\n",
       "        <td>2004.0</td>\n",
       "        <td>1370900.00</td>\n",
       "    </tr>\n",
       "    <tr>\n",
       "        <td>2005.0</td>\n",
       "        <td>523498.51</td>\n",
       "    </tr>\n",
       "    <tr>\n",
       "        <td>2006.0</td>\n",
       "        <td>840366.64</td>\n",
       "    </tr>\n",
       "    <tr>\n",
       "        <td>2007.0</td>\n",
       "        <td>400000.00</td>\n",
       "    </tr>\n",
       "    <tr>\n",
       "        <td>2008.0</td>\n",
       "        <td>313478.52</td>\n",
       "    </tr>\n",
       "    <tr>\n",
       "        <td>2009.0</td>\n",
       "        <td>152345.00</td>\n",
       "    </tr>\n",
       "    <tr>\n",
       "        <td>2010.0</td>\n",
       "        <td>381368.00</td>\n",
       "    </tr>\n",
       "    <tr>\n",
       "        <td>2011.0</td>\n",
       "        <td>105451.93</td>\n",
       "    </tr>\n",
       "    <tr>\n",
       "        <td>2012.0</td>\n",
       "        <td>109755.13</td>\n",
       "    </tr>\n",
       "    <tr>\n",
       "        <td>2013.0</td>\n",
       "        <td>266329.44</td>\n",
       "    </tr>\n",
       "    <tr>\n",
       "        <td>2014.0</td>\n",
       "        <td>371000.00</td>\n",
       "    </tr>\n",
       "    <tr>\n",
       "        <td>2015.0</td>\n",
       "        <td>109168.17</td>\n",
       "    </tr>\n",
       "    <tr>\n",
       "        <td>2016.0</td>\n",
       "        <td>275000.00</td>\n",
       "    </tr>\n",
       "    <tr>\n",
       "        <td>2017.0</td>\n",
       "        <td>132751.27</td>\n",
       "    </tr>\n",
       "</table>"
      ],
      "text/plain": [
       "[(2003.0, Decimal('133383.65')),\n",
       " (2004.0, Decimal('1370900.00')),\n",
       " (2005.0, Decimal('523498.51')),\n",
       " (2006.0, Decimal('840366.64')),\n",
       " (2007.0, Decimal('400000.00')),\n",
       " (2008.0, Decimal('313478.52')),\n",
       " (2009.0, Decimal('152345.00')),\n",
       " (2010.0, Decimal('381368.00')),\n",
       " (2011.0, Decimal('105451.93')),\n",
       " (2012.0, Decimal('109755.13')),\n",
       " (2013.0, Decimal('266329.44')),\n",
       " (2014.0, Decimal('371000.00')),\n",
       " (2015.0, Decimal('109168.17')),\n",
       " (2016.0, Decimal('275000.00')),\n",
       " (2017.0, Decimal('132751.27'))]"
      ]
     },
     "execution_count": 43,
     "metadata": {},
     "output_type": "execute_result"
    }
   ],
   "source": [
    "%%sql\n",
    "SELECT g.year, MAX(g.amount) AS MAX\n",
    " FROM\n",
    " (SELECT extract(year from e.date_of_receipt) AS year, f.name AS contributor, sum(e.amount) AS amount\n",
    "  FROM contribution_facts AS e\n",
    "  JOIN contributor AS f\n",
    "  ON e.contributor_key = f.contributor_key\n",
    "  GROUP BY year, contributor) AS g\n",
    " GROUP BY year"
   ]
  },
  {
   "cell_type": "code",
   "execution_count": 44,
   "metadata": {},
   "outputs": [
    {
     "data": {
      "text/plain": [
       "<Container object of 15 artists>"
      ]
     },
     "execution_count": 44,
     "metadata": {},
     "output_type": "execute_result"
    },
    {
     "data": {
      "image/png": "[encoded data removed]",
      "text/plain": [
       "<matplotlib.figure.Figure at 0x7f365576e1d0>"
      ]
     },
     "metadata": {},
     "output_type": "display_data"
    }
   ],
   "source": [
    "_.bar()"
   ]
  },
  {
   "cell_type": "markdown",
   "metadata": {},
   "source": [
    "* There are three companies which was the top contributors in two years. Atlantic Northstar, LLC was the most active in 2005 and 2006; Fenty 2006 was the most active in 2007 and 2008; SEIU MD/DC State Council was the active active in 2011 and 2012."
   ]
  }
 ],
 "metadata": {
  "anaconda-cloud": {},
  "kernelspec": {
   "display_name": "Python 3",
   "language": "python",
   "name": "python3"
  },
  "language_info": {
   "codemirror_mode": {
    "name": "ipython",
    "version": 3
   },
   "file_extension": ".py",
   "mimetype": "text/x-python",
   "name": "python",
   "nbconvert_exporter": "python",
   "pygments_lexer": "ipython3",
   "version": "3.5.3"
  }
 },
 "nbformat": 4,
 "nbformat_minor": 1
}
