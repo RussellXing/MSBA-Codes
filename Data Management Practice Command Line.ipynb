{
 "cells": [
  {
   "cell_type": "markdown",
   "metadata": {
    "deletable": false,
    "nbgrader": {
     "checksum": "e3cd066e7cb0c61ba50126b0b2d49e23",
     "grade": false,
     "grade_id": "1",
     "locked": true,
     "solution": false
    }
   },
   "source": [
    "# Assignment 1 - Shell basics\n",
    "\n",
    "Work through as much of the Software Carpentry [lesson on the Unix Shell](http://swcarpentry.github.io/shell-novice/) as you can.  Run through the Setup section just below, then open a shell from the command line or with a terminal session through Jupyter to run through the exercises.\n",
    "\n",
    "After you have completed the first few sections of the tutorial, return to this notebook.\n",
    "\n",
    "Execute all of the cells, answer all of the questions, and wherever you see \"**Edit this cell**\", do it!\n",
    "\n",
    "\n",
    "## Setup - getting required files \n",
    "\n",
    "To get started, you'll need to have the required files in your directory.  Use `wget` to get them:"
   ]
  },
  {
   "cell_type": "code",
   "execution_count": 1,
   "metadata": {
    "deletable": false,
    "nbgrader": {
     "checksum": "8226311a7516ff4f1e6f8a40f42bc600",
     "grade": false,
     "grade_id": "2",
     "locked": true,
     "solution": false
    }
   },
   "outputs": [
    {
     "name": "stdout",
     "output_type": "stream",
     "text": [
      "--2017-09-07 20:07:41--  http://swcarpentry.github.io/shell-novice/data/shell-novice-data.zip\r\n",
      "Resolving swcarpentry.github.io (swcarpentry.github.io)... 151.101.33.147\r\n",
      "Connecting to swcarpentry.github.io (swcarpentry.github.io)|151.101.33.147|:80... connected.\r\n",
      "HTTP request sent, awaiting response... 200 OK\r\n",
      "Length: 579788 (566K) [application/zip]\r\n",
      "Saving to: ‘shell-novice-data.zip.3’\r\n",
      "\r\n",
      "\r",
      "shell-novice-data.z   0%[                    ]       0  --.-KB/s               \r",
      "shell-novice-data.z 100%[===================>] 566.20K  --.-KB/s    in 0.01s   \r\n",
      "\r\n",
      "2017-09-07 20:07:41 (40.9 MB/s) - ‘shell-novice-data.zip.3’ saved [579788/579788]\r\n",
      "\r\n"
     ]
    }
   ],
   "source": [
    "!wget http://swcarpentry.github.io/shell-novice/data/shell-novice-data.zip"
   ]
  },
  {
   "cell_type": "code",
   "execution_count": 2,
   "metadata": {
    "deletable": false,
    "nbgrader": {
     "checksum": "ae8f6d811b95bdcc1a676969401c6b73",
     "grade": false,
     "grade_id": "3",
     "locked": true,
     "solution": false
    }
   },
   "outputs": [
    {
     "name": "stdout",
     "output_type": "stream",
     "text": [
      "Archive:  shell-novice-data.zip\r\n",
      "  Length      Date    Time    Name\r\n",
      "---------  ---------- -----   ----\r\n",
      "        0  2015-11-22 18:39   data-shell/\r\n",
      "      199  2015-11-22 18:39   data-shell/.bash_profile\r\n",
      "       86  2015-11-17 09:02   data-shell/notes.txt\r\n",
      "       32  2015-11-17 09:02   data-shell/pizza.cfg\r\n",
      "    21583  2015-11-17 09:02   data-shell/solar.pdf\r\n",
      "        0  2015-11-17 09:02   data-shell/creatures/\r\n",
      "     1838  2015-11-17 09:02   data-shell/creatures/basilisk.dat\r\n",
      "     1833  2015-11-17 09:02   data-shell/creatures/unicorn.dat\r\n",
      "        0  2015-11-17 09:02   data-shell/data/\r\n",
      "      283  2015-11-17 09:02   data-shell/data/amino-acids.txt\r\n",
      "      136  2015-11-17 09:02   data-shell/data/animals.txt\r\n",
      "      554  2015-11-17 09:02   data-shell/data/morse.txt\r\n",
      "     8898  2015-11-17 09:02   data-shell/data/planets.txt\r\n",
      "       45  2015-11-17 09:02   data-shell/data/salmon.txt\r\n",
      "    73861  2015-11-17 09:02   data-shell/data/sunspot.txt\r\n",
      "        0  2015-11-17 09:02   data-shell/Desktop/\r\n",
      "        0  2015-11-17 09:02   data-shell/Desktop/.gitkeep\r\n",
      "        0  2015-11-17 09:02   data-shell/molecules/\r\n",
      "     1158  2015-11-17 09:02   data-shell/molecules/cubane.pdb\r\n",
      "      622  2015-11-17 09:02   data-shell/molecules/ethane.pdb\r\n",
      "      422  2015-11-17 09:02   data-shell/molecules/methane.pdb\r\n",
      "     1828  2015-11-17 09:02   data-shell/molecules/octane.pdb\r\n",
      "     1226  2015-11-17 09:02   data-shell/molecules/pentane.pdb\r\n",
      "      825  2015-11-17 09:02   data-shell/molecules/propane.pdb\r\n",
      "        0  2015-11-17 09:02   data-shell/north-pacific-gyre/\r\n",
      "        0  2015-11-17 09:02   data-shell/writing/\r\n",
      "      218  2015-11-17 09:02   data-shell/writing/haiku.txt\r\n",
      "        0  2017-02-27 16:05   data-shell/data/animal-counts/\r\n",
      "      155  2017-02-27 16:02   data-shell/data/animal-counts/animals.txt\r\n",
      "        0  2015-11-17 09:02   data-shell/data/elements/\r\n",
      "      270  2015-11-17 09:02   data-shell/data/elements/Ac.xml\r\n",
      "      312  2015-11-17 09:02   data-shell/data/elements/Ag.xml\r\n",
      "      314  2015-11-17 09:02   data-shell/data/elements/Al.xml\r\n",
      "      325  2015-11-17 09:02   data-shell/data/elements/Am.xml\r\n",
      "      307  2015-11-17 09:02   data-shell/data/elements/Ar.xml\r\n",
      "      326  2015-11-17 09:02   data-shell/data/elements/As.xml\r\n",
      "      261  2015-11-17 09:02   data-shell/data/elements/At.xml\r\n",
      "      308  2015-11-17 09:02   data-shell/data/elements/Au.xml\r\n",
      "      309  2015-11-17 09:02   data-shell/data/elements/B.xml\r\n",
      "      302  2015-11-17 09:02   data-shell/data/elements/Ba.xml\r\n",
      "      311  2015-11-17 09:02   data-shell/data/elements/Be.xml\r\n",
      "      309  2015-11-17 09:02   data-shell/data/elements/Bi.xml\r\n",
      "      241  2015-11-17 09:02   data-shell/data/elements/Bk.xml\r\n",
      "      321  2015-11-17 09:02   data-shell/data/elements/Br.xml\r\n",
      "      317  2015-11-17 09:02   data-shell/data/elements/C.xml\r\n",
      "      309  2015-11-17 09:02   data-shell/data/elements/Ca.xml\r\n",
      "      311  2015-11-17 09:02   data-shell/data/elements/Cd.xml\r\n",
      "      313  2015-11-17 09:02   data-shell/data/elements/Ce.xml\r\n",
      "      239  2015-11-17 09:02   data-shell/data/elements/Cf.xml\r\n",
      "      323  2015-11-17 09:02   data-shell/data/elements/Cl.xml\r\n",
      "      234  2015-11-17 09:02   data-shell/data/elements/Cm.xml\r\n",
      "      312  2015-11-17 09:02   data-shell/data/elements/Co.xml\r\n",
      "      317  2015-11-17 09:02   data-shell/data/elements/Cr.xml\r\n",
      "      306  2015-11-17 09:02   data-shell/data/elements/Cs.xml\r\n",
      "      313  2015-11-17 09:02   data-shell/data/elements/Cu.xml\r\n",
      "      312  2015-11-17 09:02   data-shell/data/elements/Dy.xml\r\n",
      "      308  2015-11-17 09:02   data-shell/data/elements/Er.xml\r\n",
      "      238  2015-11-17 09:02   data-shell/data/elements/Es.xml\r\n",
      "      315  2015-11-17 09:02   data-shell/data/elements/Eu.xml\r\n",
      "      314  2015-11-17 09:02   data-shell/data/elements/F.xml\r\n",
      "      309  2015-11-17 09:02   data-shell/data/elements/Fe.xml\r\n",
      "      236  2015-11-17 09:02   data-shell/data/elements/Fm.xml\r\n",
      "      311  2015-11-17 09:02   data-shell/data/elements/Fr.xml\r\n",
      "      311  2015-11-17 09:02   data-shell/data/elements/Ga.xml\r\n",
      "      312  2015-11-17 09:02   data-shell/data/elements/Gd.xml\r\n",
      "      319  2015-11-17 09:02   data-shell/data/elements/Ge.xml\r\n",
      "      317  2015-11-17 09:02   data-shell/data/elements/H.xml\r\n",
      "      311  2015-11-17 09:02   data-shell/data/elements/He.xml\r\n",
      "      302  2015-11-17 09:02   data-shell/data/elements/Hf.xml\r\n",
      "      310  2015-11-17 09:02   data-shell/data/elements/Hg.xml\r\n",
      "      312  2015-11-17 09:02   data-shell/data/elements/Ho.xml\r\n",
      "      324  2015-11-17 09:02   data-shell/data/elements/I.xml\r\n",
      "      311  2015-11-17 09:02   data-shell/data/elements/In.xml\r\n",
      "      305  2015-11-17 09:02   data-shell/data/elements/Ir.xml\r\n",
      "      312  2015-11-17 09:02   data-shell/data/elements/K.xml\r\n",
      "      310  2015-11-17 09:02   data-shell/data/elements/Kr.xml\r\n",
      "      271  2015-11-17 09:02   data-shell/data/elements/La.xml\r\n",
      "      312  2015-11-17 09:02   data-shell/data/elements/Li.xml\r\n",
      "      237  2015-11-17 09:02   data-shell/data/elements/Lr.xml\r\n",
      "      311  2015-11-17 09:02   data-shell/data/elements/Lu.xml\r\n",
      "      237  2015-11-17 09:02   data-shell/data/elements/Md.xml\r\n",
      "      310  2015-11-17 09:02   data-shell/data/elements/Mg.xml\r\n",
      "      322  2015-11-17 09:02   data-shell/data/elements/Mn.xml\r\n",
      "      311  2015-11-17 09:02   data-shell/data/elements/Mo.xml\r\n",
      "      333  2015-11-17 09:02   data-shell/data/elements/N.xml\r\n",
      "      315  2015-11-17 09:02   data-shell/data/elements/Na.xml\r\n",
      "      314  2015-11-17 09:02   data-shell/data/elements/Nb.xml\r\n",
      "      311  2015-11-17 09:02   data-shell/data/elements/Nd.xml\r\n",
      "      308  2015-11-17 09:02   data-shell/data/elements/Ne.xml\r\n",
      "      312  2015-11-17 09:02   data-shell/data/elements/Ni.xml\r\n",
      "      241  2015-11-17 09:02   data-shell/data/elements/No.xml\r\n",
      "      323  2015-11-17 09:02   data-shell/data/elements/Np.xml\r\n",
      "      309  2015-11-17 09:02   data-shell/data/elements/O.xml\r\n",
      "      304  2015-11-17 09:02   data-shell/data/elements/Os.xml\r\n",
      "      325  2015-11-17 09:02   data-shell/data/elements/P.xml\r\n",
      "      321  2015-11-17 09:02   data-shell/data/elements/Pa.xml\r\n",
      "      303  2015-11-17 09:02   data-shell/data/elements/Pb.xml\r\n",
      "      314  2015-11-17 09:02   data-shell/data/elements/Pd.xml\r\n",
      "      314  2015-11-17 09:02   data-shell/data/elements/Pm.xml\r\n",
      "      307  2015-11-17 09:02   data-shell/data/elements/Po.xml\r\n",
      "      317  2015-11-17 09:02   data-shell/data/elements/Pr.xml\r\n",
      "      306  2015-11-17 09:02   data-shell/data/elements/Pt.xml\r\n",
      "      324  2015-11-17 09:02   data-shell/data/elements/Pu.xml\r\n",
      "      309  2015-11-17 09:02   data-shell/data/elements/Ra.xml\r\n",
      "      311  2015-11-17 09:02   data-shell/data/elements/Rb.xml\r\n",
      "      309  2015-11-17 09:02   data-shell/data/elements/Re.xml\r\n",
      "      311  2015-11-17 09:02   data-shell/data/elements/Rh.xml\r\n",
      "      299  2015-11-17 09:02   data-shell/data/elements/Rn.xml\r\n",
      "      311  2015-11-17 09:02   data-shell/data/elements/Ru.xml\r\n",
      "      318  2015-11-17 09:02   data-shell/data/elements/S.xml\r\n",
      "      322  2015-11-17 09:02   data-shell/data/elements/Sb.xml\r\n",
      "      312  2015-11-17 09:02   data-shell/data/elements/Sc.xml\r\n",
      "      318  2015-11-17 09:02   data-shell/data/elements/Se.xml\r\n",
      "      320  2015-11-17 09:02   data-shell/data/elements/Si.xml\r\n",
      "      314  2015-11-17 09:02   data-shell/data/elements/Sm.xml\r\n",
      "      309  2015-11-17 09:02   data-shell/data/elements/Sn.xml\r\n",
      "      310  2015-11-17 09:02   data-shell/data/elements/Sr.xml\r\n",
      "      305  2015-11-17 09:02   data-shell/data/elements/Ta.xml\r\n",
      "      312  2015-11-17 09:02   data-shell/data/elements/Tb.xml\r\n",
      "      319  2015-11-17 09:02   data-shell/data/elements/Tc.xml\r\n",
      "      321  2015-11-17 09:02   data-shell/data/elements/Te.xml\r\n",
      "      314  2015-11-17 09:02   data-shell/data/elements/Th.xml\r\n",
      "      315  2015-11-17 09:02   data-shell/data/elements/Ti.xml\r\n",
      "      309  2015-11-17 09:02   data-shell/data/elements/Tl.xml\r\n",
      "      312  2015-11-17 09:02   data-shell/data/elements/Tm.xml\r\n",
      "      324  2015-11-17 09:02   data-shell/data/elements/U.xml\r\n",
      "      319  2015-11-17 09:02   data-shell/data/elements/V.xml\r\n",
      "      302  2015-11-17 09:02   data-shell/data/elements/W.xml\r\n",
      "      309  2015-11-17 09:02   data-shell/data/elements/Xe.xml\r\n",
      "      310  2015-11-17 09:02   data-shell/data/elements/Y.xml\r\n",
      "      315  2015-11-17 09:02   data-shell/data/elements/Yb.xml\r\n",
      "      307  2015-11-17 09:02   data-shell/data/elements/Zn.xml\r\n",
      "      311  2015-11-17 09:02   data-shell/data/elements/Zr.xml\r\n",
      "        0  2015-11-17 09:02   data-shell/data/pdb/\r\n",
      "     1516  2015-11-17 09:02   data-shell/data/pdb/aldrin.pdb\r\n",
      "      306  2015-11-17 09:02   data-shell/data/pdb/ammonia.pdb\r\n",
      "     1444  2015-11-17 09:02   data-shell/data/pdb/ascorbic-acid.pdb\r\n",
      "     1030  2015-11-17 09:02   data-shell/data/pdb/benzaldehyde.pdb\r\n",
      "     1830  2015-11-17 09:02   data-shell/data/pdb/camphene.pdb\r\n",
      "     5049  2015-11-17 09:02   data-shell/data/pdb/cholesterol.pdb\r\n",
      "     1090  2015-11-17 09:02   data-shell/data/pdb/cinnamaldehyde.pdb\r\n",
      "     1694  2015-11-17 09:02   data-shell/data/pdb/citronellal.pdb\r\n",
      "     2452  2015-11-17 09:02   data-shell/data/pdb/codeine.pdb\r\n",
      "     1158  2015-11-17 09:02   data-shell/data/pdb/cubane.pdb\r\n",
      "      895  2015-11-17 09:02   data-shell/data/pdb/cyclobutane.pdb\r\n",
      "     1384  2015-11-17 09:02   data-shell/data/pdb/cyclohexanol.pdb\r\n",
      "      695  2015-11-17 09:02   data-shell/data/pdb/cyclopropane.pdb\r\n",
      "      622  2015-11-17 09:02   data-shell/data/pdb/ethane.pdb\r\n",
      "      691  2015-11-17 09:02   data-shell/data/pdb/ethanol.pdb\r\n",
      "     2396  2015-11-17 09:02   data-shell/data/pdb/ethylcyclohexane.pdb\r\n",
      "      765  2015-11-17 09:02   data-shell/data/pdb/glycol.pdb\r\n",
      "     4209  2015-11-17 09:02   data-shell/data/pdb/heme.pdb\r\n",
      "     1064  2015-11-17 09:02   data-shell/data/pdb/lactic-acid.pdb\r\n",
      "     2562  2015-11-17 09:02   data-shell/data/pdb/lactose.pdb\r\n",
      "    11193  2015-11-17 09:02   data-shell/data/pdb/lanoxin.pdb\r\n",
      "     3395  2015-11-17 09:02   data-shell/data/pdb/lsd.pdb\r\n",
      "     2562  2015-11-17 09:02   data-shell/data/pdb/maltose.pdb\r\n",
      "     2164  2015-11-17 09:02   data-shell/data/pdb/menthol.pdb\r\n",
      "      422  2015-11-17 09:02   data-shell/data/pdb/methane.pdb\r\n",
      "      490  2015-11-17 09:02   data-shell/data/pdb/methanol.pdb\r\n",
      "     1869  2015-11-17 09:02   data-shell/data/pdb/mint.pdb\r\n",
      "     2288  2015-11-17 09:02   data-shell/data/pdb/morphine.pdb\r\n",
      "     2123  2015-11-17 09:02   data-shell/data/pdb/mustard.pdb\r\n",
      "     1680  2015-11-17 09:02   data-shell/data/pdb/nerol.pdb\r\n",
      "     2729  2015-11-17 09:02   data-shell/data/pdb/norethindrone.pdb\r\n",
      "     1828  2015-11-17 09:02   data-shell/data/pdb/octane.pdb\r\n",
      "     1226  2015-11-17 09:02   data-shell/data/pdb/pentane.pdb\r\n",
      "     2287  2015-11-17 09:02   data-shell/data/pdb/piperine.pdb\r\n",
      "      825  2015-11-17 09:02   data-shell/data/pdb/propane.pdb\r\n",
      "     1256  2015-11-17 09:02   data-shell/data/pdb/pyridoxal.pdb\r\n",
      "     3303  2015-11-17 09:02   data-shell/data/pdb/quinine.pdb\r\n",
      "     2675  2015-11-17 09:02   data-shell/data/pdb/strychnine.pdb\r\n",
      "     1159  2015-11-17 09:02   data-shell/data/pdb/styrene.pdb\r\n",
      "     2562  2015-11-17 09:02   data-shell/data/pdb/sucrose.pdb\r\n",
      "     2787  2015-11-17 09:02   data-shell/data/pdb/testosterone.pdb\r\n",
      "     2196  2015-11-17 09:02   data-shell/data/pdb/thiamine.pdb\r\n",
      "     1508  2015-11-17 09:02   data-shell/data/pdb/tnt.pdb\r\n",
      "     2395  2015-11-17 09:02   data-shell/data/pdb/tuberin.pdb\r\n",
      "     2103  2015-11-17 09:02   data-shell/data/pdb/tyrian-purple.pdb\r\n",
      "     1361  2015-11-17 09:02   data-shell/data/pdb/vanillin.pdb\r\n",
      "      423  2015-11-17 09:02   data-shell/data/pdb/vinyl-chloride.pdb\r\n",
      "     2894  2015-11-17 09:02   data-shell/data/pdb/vitamin-a.pdb\r\n",
      "        0  2015-11-17 09:02   data-shell/north-pacific-gyre/2012-07-03/\r\n",
      "      184  2015-11-17 09:02   data-shell/north-pacific-gyre/2012-07-03/goodiff\r\n",
      "      198  2015-11-17 09:02   data-shell/north-pacific-gyre/2012-07-03/goostats\r\n",
      "     4406  2015-11-17 09:02   data-shell/north-pacific-gyre/2012-07-03/NENE01729A.txt\r\n",
      "     4400  2015-11-17 09:02   data-shell/north-pacific-gyre/2012-07-03/NENE01729B.txt\r\n",
      "     4371  2015-11-17 09:02   data-shell/north-pacific-gyre/2012-07-03/NENE01736A.txt\r\n",
      "     4411  2015-11-17 09:02   data-shell/north-pacific-gyre/2012-07-03/NENE01751A.txt\r\n",
      "     4409  2015-11-17 09:02   data-shell/north-pacific-gyre/2012-07-03/NENE01751B.txt\r\n",
      "     4401  2015-11-17 09:02   data-shell/north-pacific-gyre/2012-07-03/NENE01812A.txt\r\n",
      "     4395  2015-11-17 09:02   data-shell/north-pacific-gyre/2012-07-03/NENE01843A.txt\r\n",
      "     4375  2015-11-17 09:02   data-shell/north-pacific-gyre/2012-07-03/NENE01843B.txt\r\n",
      "     4372  2015-11-17 09:02   data-shell/north-pacific-gyre/2012-07-03/NENE01971Z.txt\r\n",
      "     4381  2015-11-17 09:02   data-shell/north-pacific-gyre/2012-07-03/NENE01978A.txt\r\n",
      "     4389  2015-11-17 09:02   data-shell/north-pacific-gyre/2012-07-03/NENE01978B.txt\r\n",
      "     3517  2015-11-17 09:02   data-shell/north-pacific-gyre/2012-07-03/NENE02018B.txt\r\n",
      "     4391  2015-11-17 09:02   data-shell/north-pacific-gyre/2012-07-03/NENE02040A.txt\r\n",
      "     4367  2015-11-17 09:02   data-shell/north-pacific-gyre/2012-07-03/NENE02040B.txt\r\n",
      "     4381  2015-11-17 09:02   data-shell/north-pacific-gyre/2012-07-03/NENE02040Z.txt\r\n",
      "     4386  2015-11-17 09:02   data-shell/north-pacific-gyre/2012-07-03/NENE02043A.txt\r\n",
      "     4393  2015-11-17 09:02   data-shell/north-pacific-gyre/2012-07-03/NENE02043B.txt\r\n",
      "        0  2015-11-17 09:02   data-shell/writing/data/\r\n",
      "     3962  2015-11-17 09:02   data-shell/writing/data/one.txt\r\n",
      "    18034  2015-11-17 09:02   data-shell/writing/data/two.txt\r\n",
      "  1053440  2017-02-27 15:01   data-shell/writing/data/LittleWomen.txt\r\n",
      "        0  2015-11-17 09:02   data-shell/writing/old/\r\n",
      "        0  2015-11-17 09:02   data-shell/writing/old/.gitkeep\r\n",
      "        0  2015-11-17 09:02   data-shell/writing/thesis/\r\n",
      "        0  2015-11-17 09:02   data-shell/writing/thesis/empty-draft.md\r\n",
      "        0  2015-11-17 09:02   data-shell/writing/tools/\r\n",
      "       31  2015-11-17 09:02   data-shell/writing/tools/format\r\n",
      "       26  2015-11-17 09:02   data-shell/writing/tools/stats\r\n",
      "        0  2015-11-17 09:02   data-shell/writing/tools/old/\r\n",
      "        0  2015-11-17 09:02   data-shell/writing/tools/old/oldtool\r\n",
      "---------                     -------\r\n",
      "  1393475                     215 files\r\n"
     ]
    }
   ],
   "source": [
    "!unzip -l shell-novice-data.zip"
   ]
  },
  {
   "cell_type": "code",
   "execution_count": null,
   "metadata": {
    "deletable": false,
    "nbgrader": {
     "checksum": "4d1a9ad9353f087a9492105c292e77f0",
     "grade": false,
     "grade_id": "4",
     "locked": true,
     "solution": false
    }
   },
   "outputs": [
    {
     "name": "stdout",
     "output_type": "stream",
     "text": [
      "Archive:  shell-novice-data.zip\r\n",
      "replace data-shell/.bash_profile? [y]es, [n]o, [A]ll, [N]one, [r]ename: "
     ]
    }
   ],
   "source": [
    "!unzip shell-novice-data.zip"
   ]
  },
  {
   "cell_type": "markdown",
   "metadata": {
    "deletable": false,
    "nbgrader": {
     "checksum": "152f602792df2af81846d380bde22960",
     "grade": false,
     "grade_id": "5",
     "locked": true,
     "solution": false
    }
   },
   "source": [
    "*Note*: you only need to do this once per session while using Jupyter.  You can open a terminal now and work through the steps, and return to this notebook a little later, and the files will be available either way.  That's because you're working in the same local directory.\n",
    "\n",
    "If you're reusing one AWS EC2 instance, your files should remain after you stop and restart.  But if you're using datanotebook.org, you'll have to repeat the above, because it cleans out every session when you're done.\n",
    "\n",
    "Okay, let's get on with the exercise!"
   ]
  },
  {
   "cell_type": "markdown",
   "metadata": {},
   "source": [
    "## Markdown basics\n",
    "\n",
    "In the following cells, practice marking up text using markdown:"
   ]
  },
  {
   "cell_type": "markdown",
   "metadata": {},
   "source": [
    "# Make this a top-level header (add \"`# `\" to the left of the text)."
   ]
  },
  {
   "cell_type": "markdown",
   "metadata": {},
   "source": [
    "## Make this a second-level header (add \"`## `\" to the left of the text)."
   ]
  },
  {
   "cell_type": "markdown",
   "metadata": {},
   "source": [
    "Make the following three words three separate bullet points (add \"`* `\" to the left of each line):\n",
    "\n",
    " * One\n",
    " * Two\n",
    " * Three"
   ]
  },
  {
   "cell_type": "markdown",
   "metadata": {
    "collapsed": true
   },
   "source": [
    "Make this cell a Markdown cell instead of code!"
   ]
  },
  {
   "cell_type": "code",
   "execution_count": 1,
   "metadata": {},
   "outputs": [
    {
     "name": "stdout",
     "output_type": "stream",
     "text": [
      "Make this cell a code cell instead of Markdown!\n"
     ]
    }
   ],
   "source": [
    "print(\"Make this cell a code cell instead of Markdown!\")"
   ]
  },
  {
   "cell_type": "markdown",
   "metadata": {
    "deletable": false,
    "nbgrader": {
     "checksum": "20336e8a4415b37ddad44f9fcf537212",
     "grade": false,
     "grade_id": "6",
     "locked": true,
     "solution": false
    }
   },
   "source": [
    "## Navigating Files and Directories\n",
    "\n",
    "As you work through this section of the tutorial, complete the steps here as well, using the `!` shell escape command.  Execute each cell as you go.\n",
    "\n",
    "These steps aren't exactly the same as what's in the tutorial, where the file layout is a little different and where they're not using a notebook like we are.  That's okay.  Just consider this practice."
   ]
  },
  {
   "cell_type": "code",
   "execution_count": 2,
   "metadata": {
    "nbgrader": {
     "grade": false,
     "locked": false,
     "points": 1,
     "solution": false
    }
   },
   "outputs": [
    {
     "name": "stdout",
     "output_type": "stream",
     "text": [
      "ubuntu\r\n"
     ]
    }
   ],
   "source": [
    "!whoami"
   ]
  },
  {
   "cell_type": "code",
   "execution_count": 3,
   "metadata": {
    "nbgrader": {
     "grade": false,
     "locked": false,
     "points": 1,
     "solution": false
    }
   },
   "outputs": [
    {
     "name": "stdout",
     "output_type": "stream",
     "text": [
      "/home/ubuntu\r\n"
     ]
    }
   ],
   "source": [
    "!pwd"
   ]
  },
  {
   "cell_type": "code",
   "execution_count": 4,
   "metadata": {
    "nbgrader": {
     "grade": false,
     "locked": false,
     "points": 1,
     "solution": false
    }
   },
   "outputs": [
    {
     "name": "stdout",
     "output_type": "stream",
     "text": [
      "assignment-1.ipynb  practice-1.ipynb\t   shell-novice-data.zip.1\r\n",
      "data-shell/\t    practice-2.ipynb\t   shell-novice-data.zip.2\r\n",
      "derby.log\t    quotes\t\t   shell-novice-data.zip.3\r\n",
      "downloads/\t    quotes.txt\t\t   thesis/\r\n",
      "metastore_db/\t    R/\r\n",
      "notes.txt\t    shell-novice-data.zip\r\n"
     ]
    }
   ],
   "source": [
    "!ls -F"
   ]
  },
  {
   "cell_type": "code",
   "execution_count": 5,
   "metadata": {
    "nbgrader": {
     "grade": false,
     "locked": false,
     "points": 1,
     "solution": false
    }
   },
   "outputs": [
    {
     "name": "stdout",
     "output_type": "stream",
     "text": [
      "assignment-1.ipynb  practice-1.ipynb\t   shell-novice-data.zip.1\r\n",
      "data-shell/\t    practice-2.ipynb\t   shell-novice-data.zip.2\r\n",
      "derby.log\t    quotes\t\t   shell-novice-data.zip.3\r\n",
      "downloads/\t    quotes.txt\t\t   thesis/\r\n",
      "metastore_db/\t    R/\r\n",
      "notes.txt\t    shell-novice-data.zip\r\n"
     ]
    }
   ],
   "source": [
    "!ls -F"
   ]
  },
  {
   "cell_type": "code",
   "execution_count": 6,
   "metadata": {
    "nbgrader": {
     "grade": false,
     "locked": false,
     "points": 1,
     "solution": false
    }
   },
   "outputs": [
    {
     "name": "stdout",
     "output_type": "stream",
     "text": [
      "creatures/  hydro.csv\tmolecules/\t     pizza.cfg\twriting/\r\n",
      "data/\t    hydro.xls\tnorth-pacific-gyre/  solar.pdf\r\n",
      "Desktop/    index.html\tnotes.txt\t     thesis/\r\n"
     ]
    }
   ],
   "source": [
    "!ls -F data-shell/"
   ]
  },
  {
   "cell_type": "code",
   "execution_count": 7,
   "metadata": {
    "nbgrader": {
     "grade": false,
     "locked": false,
     "points": 1,
     "solution": false
    }
   },
   "outputs": [
    {
     "name": "stdout",
     "output_type": "stream",
     "text": [
      "./\t\t    .ipynb_checkpoints/  R/\r\n",
      "../\t\t    .ipython/\t\t .RData\r\n",
      "assignment-1.ipynb  .jupyter/\t\t shell-novice-data.zip\r\n",
      ".bash_aliases\t    .local/\t\t shell-novice-data.zip.1\r\n",
      ".bash_history\t    metastore_db/\t shell-novice-data.zip.2\r\n",
      ".bash_logout\t    .nano/\t\t shell-novice-data.zip.3\r\n",
      ".bashrc\t\t    notes.txt\t\t .ssh/\r\n",
      ".cache/\t\t    practice-1.ipynb\t .sudo_as_admin_successful\r\n",
      ".cargo/\t\t    practice-2.ipynb\t thesis/\r\n",
      ".config/\t    .profile\t\t .viminfo\r\n",
      "data-shell/\t    .python_history\t .vimrc\r\n",
      "derby.log\t    quotes\t\t .wget-hsts\r\n",
      "downloads/\t    quotes.txt\r\n"
     ]
    }
   ],
   "source": [
    "!ls -aF"
   ]
  },
  {
   "cell_type": "code",
   "execution_count": 8,
   "metadata": {
    "nbgrader": {
     "grade": false,
     "locked": false,
     "points": 1,
     "solution": false
    }
   },
   "outputs": [
    {
     "name": "stdout",
     "output_type": "stream",
     "text": [
      ".ipynb_checkpoints\t .ipython\t\t    practice-2.ipynb\r\n",
      ".cargo\t\t\t .bashrc\t\t    .RData\r\n",
      "..\t\t\t .python_history\t    .vimrc\r\n",
      "R\t\t\t shell-novice-data.zip.2    .viminfo\r\n",
      "shell-novice-data.zip.3  .wget-hsts\t\t    .bash_logout\r\n",
      "derby.log\t\t practice-1.ipynb\t    .jupyter\r\n",
      ".\t\t\t downloads\t\t    quotes\r\n",
      "quotes.txt\t\t .bash_aliases\t\t    .bash_history\r\n",
      ".cache\t\t\t thesis\t\t\t    shell-novice-data.zip\r\n",
      ".config\t\t\t .nano\t\t\t    notes.txt\r\n",
      "assignment-1.ipynb\t .profile\t\t    .local\r\n",
      "metastore_db\t\t .sudo_as_admin_successful  data-shell\r\n",
      ".ssh\t\t\t shell-novice-data.zip.1\r\n"
     ]
    }
   ],
   "source": [
    "!ls -af ."
   ]
  },
  {
   "cell_type": "markdown",
   "metadata": {
    "deletable": false,
    "nbgrader": {
     "checksum": "68b014c6f404b0d1d947f29e2bfcc486",
     "grade": false,
     "grade_id": "17",
     "locked": true,
     "points": 1,
     "solution": false
    }
   },
   "source": [
    "What is the difference between the two previous cells, and what does the single dot mean?"
   ]
  },
  {
   "cell_type": "markdown",
   "metadata": {
    "deletable": false,
    "nbgrader": {
     "checksum": "096f49df2f3ad787d39504949efc14c8",
     "grade": true,
     "grade_id": "156",
     "locked": false,
     "points": 1,
     "solution": true
    }
   },
   "source": [
    "**The second cell doesn't sort the content while the first does. Dot means current directory."
   ]
  },
  {
   "cell_type": "code",
   "execution_count": 1,
   "metadata": {
    "nbgrader": {
     "grade": false,
     "locked": false,
     "points": 1,
     "solution": false
    }
   },
   "outputs": [
    {
     "name": "stdout",
     "output_type": "stream",
     "text": [
      "ubuntu/\r\n"
     ]
    }
   ],
   "source": [
    "!ls -F .."
   ]
  },
  {
   "cell_type": "markdown",
   "metadata": {
    "deletable": false,
    "nbgrader": {
     "checksum": "7edc7fa8b245f34a03ead3d212893148",
     "grade": false,
     "grade_id": "18",
     "locked": true,
     "points": 1,
     "solution": false
    }
   },
   "source": [
    "What do the double dots mean?"
   ]
  },
  {
   "cell_type": "markdown",
   "metadata": {
    "deletable": false,
    "nbgrader": {
     "checksum": "aa03dc1d4946820269aa3232690a8098",
     "grade": true,
     "grade_id": "155",
     "locked": false,
     "points": 1,
     "solution": true
    }
   },
   "source": [
    "**The directory containing this one"
   ]
  },
  {
   "cell_type": "code",
   "execution_count": 2,
   "metadata": {
    "nbgrader": {
     "grade": false,
     "locked": false,
     "points": 1,
     "solution": false
    }
   },
   "outputs": [
    {
     "name": "stdout",
     "output_type": "stream",
     "text": [
      "goodiff\t\tNENE01736A.txt\tNENE01843A.txt\tNENE01978B.txt\tNENE02040Z.txt\r\n",
      "goostats\tNENE01751A.txt\tNENE01843B.txt\tNENE02018B.txt\tNENE02043A.txt\r\n",
      "NENE01729A.txt\tNENE01751B.txt\tNENE01971Z.txt\tNENE02040A.txt\tNENE02043B.txt\r\n",
      "NENE01729B.txt\tNENE01812A.txt\tNENE01978A.txt\tNENE02040B.txt\r\n"
     ]
    }
   ],
   "source": [
    "!ls data-shell/north-pacific-gyre/2012-07-03/"
   ]
  },
  {
   "cell_type": "markdown",
   "metadata": {
    "deletable": false,
    "nbgrader": {
     "checksum": "73813310a319b6fb2eaa47fd2e446113",
     "grade": false,
     "grade_id": "20",
     "locked": true,
     "solution": false
    }
   },
   "source": [
    "## Working with Files and Directories\n",
    "\n",
    "The following cells come from the next section of the tutorial."
   ]
  },
  {
   "cell_type": "code",
   "execution_count": 3,
   "metadata": {
    "nbgrader": {
     "grade": false,
     "locked": false,
     "points": 1,
     "solution": false
    }
   },
   "outputs": [
    {
     "name": "stdout",
     "output_type": "stream",
     "text": [
      "assignment-1.ipynb  practice-1.ipynb\t   shell-novice-data.zip.1\r\n",
      "data-shell/\t    practice-2.ipynb\t   shell-novice-data.zip.2\r\n",
      "derby.log\t    quotes\t\t   shell-novice-data.zip.3\r\n",
      "downloads/\t    quotes.txt\t\t   thesis/\r\n",
      "metastore_db/\t    R/\r\n",
      "notes.txt\t    shell-novice-data.zip\r\n"
     ]
    }
   ],
   "source": [
    "!ls -F"
   ]
  },
  {
   "cell_type": "code",
   "execution_count": 4,
   "metadata": {
    "nbgrader": {
     "grade": false,
     "locked": false,
     "points": 1,
     "solution": false
    }
   },
   "outputs": [
    {
     "name": "stdout",
     "output_type": "stream",
     "text": [
      "mkdir: cannot create directory ‘thesis’: File exists\r\n"
     ]
    }
   ],
   "source": [
    "!mkdir thesis"
   ]
  },
  {
   "cell_type": "code",
   "execution_count": 5,
   "metadata": {
    "collapsed": true,
    "deletable": false,
    "nbgrader": {
     "checksum": "d3b4bcc7173216067e71713971f56458",
     "grade": true,
     "grade_id": "121",
     "locked": true,
     "points": 1,
     "solution": false
    }
   },
   "outputs": [],
   "source": [
    "import os\n",
    "assert \"thesis\" in os.listdir()"
   ]
  },
  {
   "cell_type": "code",
   "execution_count": 6,
   "metadata": {
    "nbgrader": {
     "grade": false,
     "locked": false,
     "points": 1,
     "solution": false
    }
   },
   "outputs": [
    {
     "name": "stdout",
     "output_type": "stream",
     "text": [
      "assignment-1.ipynb  practice-1.ipynb\t   shell-novice-data.zip.1\r\n",
      "data-shell/\t    practice-2.ipynb\t   shell-novice-data.zip.2\r\n",
      "derby.log\t    quotes\t\t   shell-novice-data.zip.3\r\n",
      "downloads/\t    quotes.txt\t\t   thesis/\r\n",
      "metastore_db/\t    R/\r\n",
      "notes.txt\t    shell-novice-data.zip\r\n"
     ]
    }
   ],
   "source": [
    "!ls -F"
   ]
  },
  {
   "cell_type": "markdown",
   "metadata": {
    "deletable": false,
    "nbgrader": {
     "checksum": "066e9eefabbb9850efbaf78568d53cc1",
     "grade": false,
     "grade_id": "12",
     "locked": true,
     "solution": false
    }
   },
   "source": [
    "You can't use the nano editor here in Jupyter, so we'll use the `touch` command to create an empty file instead."
   ]
  },
  {
   "cell_type": "code",
   "execution_count": 7,
   "metadata": {
    "collapsed": true,
    "nbgrader": {
     "grade": false,
     "locked": false,
     "points": 1,
     "solution": false
    }
   },
   "outputs": [],
   "source": [
    "!touch thesis/draft.txt"
   ]
  },
  {
   "cell_type": "code",
   "execution_count": 8,
   "metadata": {
    "collapsed": true,
    "deletable": false,
    "nbgrader": {
     "checksum": "fa8505bfc9fef49d61b9d88bd67c8ac8",
     "grade": true,
     "grade_id": "123",
     "locked": true,
     "points": 1,
     "solution": false
    }
   },
   "outputs": [],
   "source": [
    "assert \"draft.txt\" in os.listdir(\"thesis\")"
   ]
  },
  {
   "cell_type": "code",
   "execution_count": 9,
   "metadata": {
    "nbgrader": {
     "grade": false,
     "locked": false,
     "points": 1,
     "solution": false
    }
   },
   "outputs": [
    {
     "name": "stdout",
     "output_type": "stream",
     "text": [
      "draft.txt  quotes.txt\r\n"
     ]
    }
   ],
   "source": [
    "!ls -F thesis"
   ]
  },
  {
   "cell_type": "markdown",
   "metadata": {
    "deletable": false,
    "nbgrader": {
     "checksum": "44efd4ee4fa259cb189e7d8755761bdd",
     "grade": false,
     "grade_id": "33",
     "locked": true,
     "solution": false
    }
   },
   "source": [
    "Removing files and directories."
   ]
  },
  {
   "cell_type": "code",
   "execution_count": 10,
   "metadata": {
    "collapsed": true,
    "nbgrader": {
     "grade": false,
     "locked": false,
     "points": 1,
     "solution": false
    }
   },
   "outputs": [],
   "source": [
    "!rm thesis/draft.txt"
   ]
  },
  {
   "cell_type": "code",
   "execution_count": 11,
   "metadata": {
    "collapsed": true,
    "deletable": false,
    "nbgrader": {
     "checksum": "764dbb17e55a063f3a9414ce228ffee5",
     "grade": true,
     "grade_id": "125",
     "locked": true,
     "points": 1,
     "solution": false
    }
   },
   "outputs": [],
   "source": [
    "assert \"draft.txt\" not in os.listdir(\"thesis\")"
   ]
  },
  {
   "cell_type": "code",
   "execution_count": 12,
   "metadata": {
    "nbgrader": {
     "grade": false,
     "locked": false,
     "points": 1,
     "solution": false
    }
   },
   "outputs": [
    {
     "name": "stdout",
     "output_type": "stream",
     "text": [
      "rm: cannot remove 'thesis': Is a directory\r\n"
     ]
    }
   ],
   "source": [
    "!rm thesis"
   ]
  },
  {
   "cell_type": "code",
   "execution_count": 13,
   "metadata": {
    "nbgrader": {
     "grade": false,
     "locked": false,
     "points": 1,
     "solution": false
    }
   },
   "outputs": [
    {
     "name": "stdout",
     "output_type": "stream",
     "text": [
      "rmdir: failed to remove 'thesis': Directory not empty\r\n"
     ]
    }
   ],
   "source": [
    "!rmdir thesis"
   ]
  },
  {
   "cell_type": "code",
   "execution_count": 14,
   "metadata": {
    "deletable": false,
    "nbgrader": {
     "checksum": "afcbc0f82ee2883500630687cc14828f",
     "grade": true,
     "grade_id": "127",
     "locked": true,
     "points": 1,
     "solution": false
    }
   },
   "outputs": [
    {
     "ename": "AssertionError",
     "evalue": "",
     "output_type": "error",
     "traceback": [
      "\u001b[0;31m---------------------------------------------------------------------------\u001b[0m",
      "\u001b[0;31mAssertionError\u001b[0m                            Traceback (most recent call last)",
      "\u001b[0;32m<ipython-input-14-959c426cffcd>\u001b[0m in \u001b[0;36m<module>\u001b[0;34m()\u001b[0m\n\u001b[0;32m----> 1\u001b[0;31m \u001b[0;32massert\u001b[0m \u001b[0;34m\"thesis\"\u001b[0m \u001b[0;32mnot\u001b[0m \u001b[0;32min\u001b[0m \u001b[0mos\u001b[0m\u001b[0;34m.\u001b[0m\u001b[0mlistdir\u001b[0m\u001b[0;34m(\u001b[0m\u001b[0;34m)\u001b[0m\u001b[0;34m\u001b[0m\u001b[0m\n\u001b[0m",
      "\u001b[0;31mAssertionError\u001b[0m: "
     ]
    }
   ],
   "source": [
    "assert \"thesis\" not in os.listdir()"
   ]
  },
  {
   "cell_type": "code",
   "execution_count": 15,
   "metadata": {
    "nbgrader": {
     "grade": false,
     "locked": false,
     "points": 1,
     "solution": false
    }
   },
   "outputs": [
    {
     "name": "stdout",
     "output_type": "stream",
     "text": [
      "assignment-1.ipynb  practice-1.ipynb\t   shell-novice-data.zip.1\r\n",
      "data-shell\t    practice-2.ipynb\t   shell-novice-data.zip.2\r\n",
      "derby.log\t    quotes\t\t   shell-novice-data.zip.3\r\n",
      "downloads\t    quotes.txt\t\t   thesis\r\n",
      "metastore_db\t    R\r\n",
      "notes.txt\t    shell-novice-data.zip\r\n"
     ]
    }
   ],
   "source": [
    "!ls"
   ]
  },
  {
   "cell_type": "markdown",
   "metadata": {
    "deletable": false,
    "nbgrader": {
     "checksum": "87b89212f52afe53f74d19db0641c135",
     "grade": false,
     "grade_id": "32",
     "locked": true,
     "solution": false
    }
   },
   "source": [
    "Renaming and copying files."
   ]
  },
  {
   "cell_type": "code",
   "execution_count": 16,
   "metadata": {
    "collapsed": true,
    "nbgrader": {
     "grade": false,
     "locked": false,
     "points": 1,
     "solution": false
    }
   },
   "outputs": [],
   "source": [
    "!touch draft.txt"
   ]
  },
  {
   "cell_type": "code",
   "execution_count": 17,
   "metadata": {
    "collapsed": true,
    "deletable": false,
    "nbgrader": {
     "checksum": "1c7350af16e1e0bf1b73f739c590daea",
     "grade": true,
     "grade_id": "129",
     "locked": true,
     "points": 1,
     "solution": false
    }
   },
   "outputs": [],
   "source": [
    "assert \"draft.txt\" in os.listdir()"
   ]
  },
  {
   "cell_type": "code",
   "execution_count": 18,
   "metadata": {
    "collapsed": true,
    "nbgrader": {
     "grade": false,
     "locked": false,
     "points": 1,
     "solution": false
    }
   },
   "outputs": [],
   "source": [
    "!mv draft.txt quotes.txt"
   ]
  },
  {
   "cell_type": "code",
   "execution_count": 19,
   "metadata": {
    "collapsed": true,
    "deletable": false,
    "nbgrader": {
     "checksum": "acc883d214907d655164e9eaf1da7ee7",
     "grade": true,
     "grade_id": "130",
     "locked": true,
     "points": 1,
     "solution": false
    }
   },
   "outputs": [],
   "source": [
    "assert \"quotes.txt\" in os.listdir()\n",
    "assert \"draft.txt\" not in os.listdir()"
   ]
  },
  {
   "cell_type": "code",
   "execution_count": 20,
   "metadata": {
    "nbgrader": {
     "grade": false,
     "locked": false,
     "points": 1,
     "solution": false
    }
   },
   "outputs": [
    {
     "name": "stdout",
     "output_type": "stream",
     "text": [
      "assignment-1.ipynb  practice-1.ipynb\t   shell-novice-data.zip.1\r\n",
      "data-shell\t    practice-2.ipynb\t   shell-novice-data.zip.2\r\n",
      "derby.log\t    quotes\t\t   shell-novice-data.zip.3\r\n",
      "downloads\t    quotes.txt\t\t   thesis\r\n",
      "metastore_db\t    R\r\n",
      "notes.txt\t    shell-novice-data.zip\r\n"
     ]
    }
   ],
   "source": [
    "!ls"
   ]
  },
  {
   "cell_type": "code",
   "execution_count": 21,
   "metadata": {
    "collapsed": true,
    "nbgrader": {
     "grade": false,
     "locked": false,
     "points": 1,
     "solution": false
    }
   },
   "outputs": [],
   "source": [
    "!cp quotes.txt quotations.txt"
   ]
  },
  {
   "cell_type": "code",
   "execution_count": 22,
   "metadata": {
    "collapsed": true,
    "deletable": false,
    "nbgrader": {
     "checksum": "d695bea6d61e9647e20623f2257770c4",
     "grade": true,
     "grade_id": "134",
     "locked": true,
     "points": 1,
     "solution": false
    }
   },
   "outputs": [],
   "source": [
    "assert \"quotes.txt\" in os.listdir()\n",
    "assert \"quotations.txt\" in os.listdir()"
   ]
  },
  {
   "cell_type": "markdown",
   "metadata": {},
   "source": [
    "### Working with output redirection"
   ]
  },
  {
   "cell_type": "markdown",
   "metadata": {
    "collapsed": true
   },
   "source": [
    "Create a new directory:"
   ]
  },
  {
   "cell_type": "code",
   "execution_count": 23,
   "metadata": {
    "collapsed": true,
    "deletable": false,
    "nbgrader": {
     "checksum": "f5b537d5f7b952dce317446fdb058b9a",
     "grade": false,
     "grade_id": "10",
     "locked": true,
     "solution": false
    }
   },
   "outputs": [],
   "source": [
    "!mkdir part1"
   ]
  },
  {
   "cell_type": "markdown",
   "metadata": {
    "nbgrader": {
     "grade": false,
     "locked": false,
     "solution": false
    }
   },
   "source": [
    "Rename `part1` to `partone` using `mv`."
   ]
  },
  {
   "cell_type": "code",
   "execution_count": 24,
   "metadata": {
    "deletable": false,
    "nbgrader": {
     "checksum": "c82f3351fee8525d38ee16f7eec7507f",
     "grade": false,
     "grade_id": "20",
     "locked": true,
     "solution": false
    }
   },
   "outputs": [
    {
     "name": "stdout",
     "output_type": "stream",
     "text": [
      "assignment-1.ipynb  partone\t      R\r\n",
      "data-shell\t    practice-1.ipynb  shell-novice-data.zip\r\n",
      "derby.log\t    practice-2.ipynb  shell-novice-data.zip.1\r\n",
      "downloads\t    quotations.txt    shell-novice-data.zip.2\r\n",
      "metastore_db\t    quotes\t      shell-novice-data.zip.3\r\n",
      "notes.txt\t    quotes.txt\t      thesis\r\n"
     ]
    }
   ],
   "source": [
    "!mv part1 partone\n",
    "!ls"
   ]
  },
  {
   "cell_type": "markdown",
   "metadata": {},
   "source": [
    "Create a file named `filelist.txt` using the output from `ls` and the output redirector `>`."
   ]
  },
  {
   "cell_type": "code",
   "execution_count": 25,
   "metadata": {
    "collapsed": true,
    "deletable": false,
    "nbgrader": {
     "checksum": "30b729d6432b6cca7910ee892899ef5d",
     "grade": false,
     "grade_id": "30",
     "locked": true,
     "solution": false
    }
   },
   "outputs": [],
   "source": [
    "!ls > filelist.txt"
   ]
  },
  {
   "cell_type": "code",
   "execution_count": 26,
   "metadata": {
    "deletable": false,
    "nbgrader": {
     "checksum": "9dfe08124e175d4de3f34a9696605bc5",
     "grade": false,
     "grade_id": "40",
     "locked": true,
     "solution": false
    }
   },
   "outputs": [
    {
     "name": "stdout",
     "output_type": "stream",
     "text": [
      "assignment-1.ipynb\r\n",
      "data-shell\r\n",
      "derby.log\r\n",
      "downloads\r\n",
      "filelist.txt\r\n",
      "metastore_db\r\n",
      "notes.txt\r\n",
      "partone\r\n",
      "practice-1.ipynb\r\n",
      "practice-2.ipynb\r\n",
      "quotations.txt\r\n",
      "quotes\r\n",
      "quotes.txt\r\n",
      "R\r\n",
      "shell-novice-data.zip\r\n",
      "shell-novice-data.zip.1\r\n",
      "shell-novice-data.zip.2\r\n",
      "shell-novice-data.zip.3\r\n",
      "thesis\r\n"
     ]
    }
   ],
   "source": [
    "!cat filelist.txt"
   ]
  },
  {
   "cell_type": "markdown",
   "metadata": {},
   "source": [
    "Append to `filelist.txt` using the output appending redirector `>>`.  Note the difference between the single `>` and double `>>`."
   ]
  },
  {
   "cell_type": "code",
   "execution_count": 27,
   "metadata": {
    "deletable": false,
    "nbgrader": {
     "checksum": "85fece0819b324908994a3d00b6d1cea",
     "grade": false,
     "grade_id": "50",
     "locked": true,
     "solution": false
    }
   },
   "outputs": [
    {
     "name": "stdout",
     "output_type": "stream",
     "text": [
      "assignment-1.ipynb\r\n",
      "data-shell\r\n",
      "derby.log\r\n",
      "downloads\r\n",
      "filelist.txt\r\n",
      "metastore_db\r\n",
      "notes.txt\r\n",
      "partone\r\n",
      "practice-1.ipynb\r\n",
      "practice-2.ipynb\r\n",
      "quotations.txt\r\n",
      "quotes\r\n",
      "quotes.txt\r\n",
      "R\r\n",
      "shell-novice-data.zip\r\n",
      "shell-novice-data.zip.1\r\n",
      "shell-novice-data.zip.2\r\n",
      "shell-novice-data.zip.3\r\n",
      "thesis\r\n",
      "assignment-1.ipynb\r\n",
      "data-shell\r\n",
      "derby.log\r\n",
      "downloads\r\n",
      "filelist.txt\r\n",
      "metastore_db\r\n",
      "notes.txt\r\n",
      "partone\r\n",
      "practice-1.ipynb\r\n",
      "practice-2.ipynb\r\n",
      "quotations.txt\r\n",
      "quotes\r\n",
      "quotes.txt\r\n",
      "R\r\n",
      "shell-novice-data.zip\r\n",
      "shell-novice-data.zip.1\r\n",
      "shell-novice-data.zip.2\r\n",
      "shell-novice-data.zip.3\r\n",
      "thesis\r\n"
     ]
    }
   ],
   "source": [
    "!ls >> filelist.txt\n",
    "!cat filelist.txt"
   ]
  },
  {
   "cell_type": "code",
   "execution_count": 28,
   "metadata": {
    "deletable": false,
    "nbgrader": {
     "checksum": "663ad0f4523bc844423ea67d9af45e7c",
     "grade": false,
     "grade_id": "60",
     "locked": true,
     "solution": false
    }
   },
   "outputs": [
    {
     "name": "stdout",
     "output_type": "stream",
     "text": [
      "assignment-1.ipynb\r\n",
      "data-shell\r\n",
      "derby.log\r\n",
      "downloads\r\n",
      "filelist.txt\r\n",
      "metastore_db\r\n",
      "notes.txt\r\n",
      "partone\r\n",
      "practice-1.ipynb\r\n",
      "practice-2.ipynb\r\n",
      "quotations.txt\r\n",
      "quotes\r\n",
      "quotes.txt\r\n",
      "R\r\n",
      "shell-novice-data.zip\r\n",
      "shell-novice-data.zip.1\r\n",
      "shell-novice-data.zip.2\r\n",
      "shell-novice-data.zip.3\r\n",
      "thesis\r\n"
     ]
    }
   ],
   "source": [
    "!ls > filelist.txt\n",
    "!cat filelist.txt"
   ]
  },
  {
   "cell_type": "markdown",
   "metadata": {},
   "source": [
    "What's the difference between `>` and `>>`?\n"
   ]
  },
  {
   "cell_type": "markdown",
   "metadata": {
    "collapsed": true,
    "deletable": false,
    "nbgrader": {
     "checksum": "1def2f111701a6f62a735f622190c0fc",
     "grade": true,
     "grade_id": "1060",
     "locked": false,
     "points": 1,
     "solution": true
    }
   },
   "source": [
    "** \">\" means redirecting the command’s output to a file instead of printing it to the screen; \">>\" means adding the command’s output to a file."
   ]
  },
  {
   "cell_type": "markdown",
   "metadata": {},
   "source": [
    "Now create a directory called \"`mydirectory`\":"
   ]
  },
  {
   "cell_type": "code",
   "execution_count": 2,
   "metadata": {
    "collapsed": true
   },
   "outputs": [],
   "source": [
    "! mkdir mydirectory"
   ]
  },
  {
   "cell_type": "code",
   "execution_count": 3,
   "metadata": {},
   "outputs": [
    {
     "ename": "NameError",
     "evalue": "name 'os' is not defined",
     "output_type": "error",
     "traceback": [
      "\u001b[0;31m---------------------------------------------------------------------------\u001b[0m",
      "\u001b[0;31mNameError\u001b[0m                                 Traceback (most recent call last)",
      "\u001b[0;32m<ipython-input-3-0b2b5684d0c2>\u001b[0m in \u001b[0;36m<module>\u001b[0;34m()\u001b[0m\n\u001b[0;32m----> 1\u001b[0;31m \u001b[0;32massert\u001b[0m \u001b[0;34m'mydirectory'\u001b[0m \u001b[0;32min\u001b[0m \u001b[0mos\u001b[0m\u001b[0;34m.\u001b[0m\u001b[0mlistdir\u001b[0m\u001b[0;34m(\u001b[0m\u001b[0;34m'.'\u001b[0m\u001b[0;34m)\u001b[0m\u001b[0;34m\u001b[0m\u001b[0m\n\u001b[0m",
      "\u001b[0;31mNameError\u001b[0m: name 'os' is not defined"
     ]
    }
   ],
   "source": [
    "assert 'mydirectory' in os.listdir('.')"
   ]
  },
  {
   "cell_type": "markdown",
   "metadata": {},
   "source": [
    "Using `ls` and output redirection, create a file called `myfiles.txt` in the directory `mydirectory` that contains the list of files in the current directory."
   ]
  },
  {
   "cell_type": "code",
   "execution_count": 8,
   "metadata": {
    "collapsed": true
   },
   "outputs": [],
   "source": [
    "! ls > mydirectory/myfiles.txt"
   ]
  },
  {
   "cell_type": "code",
   "execution_count": 9,
   "metadata": {},
   "outputs": [
    {
     "ename": "NameError",
     "evalue": "name 'os' is not defined",
     "output_type": "error",
     "traceback": [
      "\u001b[0;31m---------------------------------------------------------------------------\u001b[0m",
      "\u001b[0;31mNameError\u001b[0m                                 Traceback (most recent call last)",
      "\u001b[0;32m<ipython-input-9-854f3aa472af>\u001b[0m in \u001b[0;36m<module>\u001b[0;34m()\u001b[0m\n\u001b[0;32m----> 1\u001b[0;31m \u001b[0;32massert\u001b[0m \u001b[0;34m'myfiles.txt'\u001b[0m \u001b[0;32min\u001b[0m \u001b[0mos\u001b[0m\u001b[0;34m.\u001b[0m\u001b[0mlistdir\u001b[0m\u001b[0;34m(\u001b[0m\u001b[0;34m'mydirectory'\u001b[0m\u001b[0;34m)\u001b[0m\u001b[0;34m\u001b[0m\u001b[0m\n\u001b[0m",
      "\u001b[0;31mNameError\u001b[0m: name 'os' is not defined"
     ]
    }
   ],
   "source": [
    "assert 'myfiles.txt' in os.listdir('mydirectory')"
   ]
  },
  {
   "cell_type": "markdown",
   "metadata": {},
   "source": [
    "Clean up the directory you just created by removing its contents (the file you created) using `rm`."
   ]
  },
  {
   "cell_type": "code",
   "execution_count": 10,
   "metadata": {
    "collapsed": true
   },
   "outputs": [],
   "source": [
    "! rm mydirectory/myfiles.txt"
   ]
  },
  {
   "cell_type": "code",
   "execution_count": 11,
   "metadata": {},
   "outputs": [
    {
     "ename": "NameError",
     "evalue": "name 'os' is not defined",
     "output_type": "error",
     "traceback": [
      "\u001b[0;31m---------------------------------------------------------------------------\u001b[0m",
      "\u001b[0;31mNameError\u001b[0m                                 Traceback (most recent call last)",
      "\u001b[0;32m<ipython-input-11-ad1d57bda045>\u001b[0m in \u001b[0;36m<module>\u001b[0;34m()\u001b[0m\n\u001b[0;32m----> 1\u001b[0;31m \u001b[0;32massert\u001b[0m \u001b[0;34m'myfiles.txt'\u001b[0m \u001b[0;32mnot\u001b[0m \u001b[0;32min\u001b[0m \u001b[0mos\u001b[0m\u001b[0;34m.\u001b[0m\u001b[0mlistdir\u001b[0m\u001b[0;34m(\u001b[0m\u001b[0;34m'mydirectory'\u001b[0m\u001b[0;34m)\u001b[0m\u001b[0;34m\u001b[0m\u001b[0m\n\u001b[0m",
      "\u001b[0;31mNameError\u001b[0m: name 'os' is not defined"
     ]
    }
   ],
   "source": [
    "assert 'myfiles.txt' not in os.listdir('mydirectory')"
   ]
  },
  {
   "cell_type": "markdown",
   "metadata": {},
   "source": [
    "Now remove the directory itself using `rmdir`."
   ]
  },
  {
   "cell_type": "code",
   "execution_count": 12,
   "metadata": {
    "collapsed": true
   },
   "outputs": [],
   "source": [
    "! rm -d mydirectory"
   ]
  },
  {
   "cell_type": "code",
   "execution_count": 13,
   "metadata": {},
   "outputs": [
    {
     "ename": "NameError",
     "evalue": "name 'os' is not defined",
     "output_type": "error",
     "traceback": [
      "\u001b[0;31m---------------------------------------------------------------------------\u001b[0m",
      "\u001b[0;31mNameError\u001b[0m                                 Traceback (most recent call last)",
      "\u001b[0;32m<ipython-input-13-ff046da3ec10>\u001b[0m in \u001b[0;36m<module>\u001b[0;34m()\u001b[0m\n\u001b[0;32m----> 1\u001b[0;31m \u001b[0;32massert\u001b[0m \u001b[0;34m'mydirectory'\u001b[0m \u001b[0;32mnot\u001b[0m \u001b[0;32min\u001b[0m \u001b[0mos\u001b[0m\u001b[0;34m.\u001b[0m\u001b[0mlistdir\u001b[0m\u001b[0;34m(\u001b[0m\u001b[0;34m'.'\u001b[0m\u001b[0;34m)\u001b[0m\u001b[0;34m\u001b[0m\u001b[0m\n\u001b[0m",
      "\u001b[0;31mNameError\u001b[0m: name 'os' is not defined"
     ]
    }
   ],
   "source": [
    "assert 'mydirectory' not in os.listdir('.')"
   ]
  },
  {
   "cell_type": "markdown",
   "metadata": {},
   "source": [
    "### Filters and pipes\n",
    "\n",
    "Let's look at something a little more interesting.  Download the text of Herman Hesse's *Siddhartha* from [Project Gutenberg](http://www.gutenberg.org/):"
   ]
  },
  {
   "cell_type": "code",
   "execution_count": 14,
   "metadata": {},
   "outputs": [
    {
     "name": "stdout",
     "output_type": "stream",
     "text": [
      "--2017-09-08 04:32:17--  https://s3.amazonaws.com/2017-dmfa/assignment-1/siddhartha.txt\n",
      "Resolving s3.amazonaws.com (s3.amazonaws.com)... 52.216.129.173\n",
      "Connecting to s3.amazonaws.com (s3.amazonaws.com)|52.216.129.173|:443... connected.\n",
      "HTTP request sent, awaiting response... 200 OK\n",
      "Length: 241177 (236K) [text/plain]\n",
      "Saving to: ‘siddhartha.txt’\n",
      "\n",
      "siddhartha.txt      100%[===================>] 235.52K  --.-KB/s    in 0.006s  \n",
      "\n",
      "2017-09-08 04:32:18 (38.0 MB/s) - ‘siddhartha.txt’ saved [241177/241177]\n",
      "\n"
     ]
    }
   ],
   "source": [
    "!wget https://s3.amazonaws.com/2017-dmfa/assignment-1/siddhartha.txt"
   ]
  },
  {
   "cell_type": "markdown",
   "metadata": {},
   "source": [
    "`head` and `tail` are very useful.  They let you take a quick peek at the start and end of files."
   ]
  },
  {
   "cell_type": "code",
   "execution_count": 15,
   "metadata": {
    "deletable": false,
    "nbgrader": {
     "checksum": "07bc1e0610cf196f4ecbb3a5faa56d50",
     "grade": false,
     "grade_id": "115",
     "locked": true,
     "solution": false
    }
   },
   "outputs": [
    {
     "name": "stdout",
     "output_type": "stream",
     "text": [
      "﻿The Project Gutenberg EBook of Siddhartha, by Herman Hesse\r",
      "\r\n",
      "\r",
      "\r\n",
      "This eBook is for the use of anyone anywhere at no cost and with\r",
      "\r\n",
      "almost no restrictions whatsoever.  You may copy it, give it away or\r",
      "\r\n",
      "re-use it under the terms of the Project Gutenberg License included\r",
      "\r\n",
      "with this eBook or online at www.gutenberg.org\r",
      "\r\n",
      "\r",
      "\r\n",
      "\r",
      "\r\n",
      "Title: Siddhartha\r",
      "\r\n",
      "\r",
      "\r\n"
     ]
    }
   ],
   "source": [
    "!head siddhartha.txt"
   ]
  },
  {
   "cell_type": "code",
   "execution_count": 16,
   "metadata": {
    "deletable": false,
    "nbgrader": {
     "checksum": "be91f9ac94980a260f0168cd893ce8e5",
     "grade": false,
     "grade_id": "117",
     "locked": true,
     "solution": false
    }
   },
   "outputs": [
    {
     "name": "stdout",
     "output_type": "stream",
     "text": [
      "\r",
      "\r\n",
      "\r",
      "\r\n",
      "Most people start at our Web site which has the main PG search facility:\r",
      "\r\n",
      "\r",
      "\r\n",
      "     http://www.gutenberg.org\r",
      "\r\n",
      "\r",
      "\r\n",
      "This Web site includes information about Project Gutenberg-tm,\r",
      "\r\n",
      "including how to make donations to the Project Gutenberg Literary\r",
      "\r\n",
      "Archive Foundation, how to help produce our new eBooks, and how to\r",
      "\r\n",
      "subscribe to our email newsletter to hear about new eBooks.\r",
      "\r\n"
     ]
    }
   ],
   "source": [
    "!tail siddhartha.txt"
   ]
  },
  {
   "cell_type": "markdown",
   "metadata": {},
   "source": [
    "`grep` is one of the most useful filters.  It lets you search for and match lines that contain specific expressions.  For example, to find mentions of \"copyright\":"
   ]
  },
  {
   "cell_type": "code",
   "execution_count": 17,
   "metadata": {
    "deletable": false,
    "nbgrader": {
     "checksum": "841b4f61d576f5cbe8e025748b2b185c",
     "grade": false,
     "grade_id": "120",
     "locked": true,
     "solution": false
    }
   },
   "outputs": [
    {
     "name": "stdout",
     "output_type": "stream",
     "text": [
      "one owns a United States copyright in these works, so the Foundation\r",
      "\r\n",
      "permission and without paying copyright royalties.  Special rules,\r",
      "\r\n",
      "(trademark/copyright) agreement.  If you do not agree to abide by all\r",
      "\r\n",
      "or PGLAF), owns a compilation copyright in the collection of Project\r",
      "\r\n",
      "1.D.  The copyright laws of the place where you are located also govern\r",
      "\r\n",
      "the copyright status of any work in any country outside the United\r",
      "\r\n",
      "posted with permission of the copyright holder), the work can be copied\r",
      "\r\n",
      "with the permission of the copyright holder, your use and distribution\r",
      "\r\n",
      "terms imposed by the copyright holder.  Additional terms will be linked\r",
      "\r\n",
      "permission of the copyright holder found at the beginning of this work.\r",
      "\r\n",
      "effort to identify, do copyright research on, transcribe and proofread\r",
      "\r\n",
      "corrupt data, transcription errors, a copyright or other intellectual\r",
      "\r\n",
      "unless a copyright notice is included.  Thus, we do not necessarily\r",
      "\r\n"
     ]
    }
   ],
   "source": [
    "!grep copyright siddhartha.txt"
   ]
  },
  {
   "cell_type": "markdown",
   "metadata": {
    "nbgrader": {
     "grade": false,
     "locked": false,
     "solution": false
    }
   },
   "source": [
    "Notice anything that those lines have in common?\n",
    "\n",
    "Let's add a little more information by including the `-n` flag to add matching line numbers."
   ]
  },
  {
   "cell_type": "code",
   "execution_count": 18,
   "metadata": {
    "deletable": false,
    "nbgrader": {
     "checksum": "6b65a232f107e95ef28958d654db1b22",
     "grade": false,
     "grade_id": "130",
     "locked": true,
     "solution": false
    }
   },
   "outputs": [
    {
     "name": "stdout",
     "output_type": "stream",
     "text": [
      "3973:one owns a United States copyright in these works, so the Foundation\r",
      "\r\n",
      "3975:permission and without paying copyright royalties.  Special rules,\r",
      "\r\n",
      "4010:(trademark/copyright) agreement.  If you do not agree to abide by all\r",
      "\r\n",
      "4029:or PGLAF), owns a compilation copyright in the collection of Project\r",
      "\r\n",
      "4044:1.D.  The copyright laws of the place where you are located also govern\r",
      "\r\n",
      "4051:the copyright status of any work in any country outside the United\r",
      "\r\n",
      "4070:posted with permission of the copyright holder), the work can be copied\r",
      "\r\n",
      "4080:with the permission of the copyright holder, your use and distribution\r",
      "\r\n",
      "4082:terms imposed by the copyright holder.  Additional terms will be linked\r",
      "\r\n",
      "4084:permission of the copyright holder found at the beginning of this work.\r",
      "\r\n",
      "4155:effort to identify, do copyright research on, transcribe and proofread\r",
      "\r\n",
      "4160:corrupt data, transcription errors, a copyright or other intellectual\r",
      "\r\n",
      "4308:unless a copyright notice is included.  Thus, we do not necessarily\r",
      "\r\n"
     ]
    }
   ],
   "source": [
    "!grep -n copyright siddhartha.txt"
   ]
  },
  {
   "cell_type": "markdown",
   "metadata": {},
   "source": [
    "Now let's look for any mention of \"river\".  This will match a lot of text, so we'll just take the first 10 matching lines by *piping* the output from `grep` into `head`."
   ]
  },
  {
   "cell_type": "code",
   "execution_count": 19,
   "metadata": {
    "deletable": false,
    "nbgrader": {
     "checksum": "b2915ce333b40c35729ddc198e75a53c",
     "grade": false,
     "grade_id": "140",
     "locked": true,
     "solution": false
    }
   },
   "outputs": [
    {
     "name": "stdout",
     "output_type": "stream",
     "text": [
      "52:In the shade of the house, in the sunshine of the riverbank near the\r",
      "\r\n",
      "56:tanned his light shoulders by the banks of the river when bathing,\r",
      "\r\n",
      "107:came into his mind, flowing from the water of the river, sparkling from\r",
      "\r\n",
      "329:the river and to perform the first ablution.\"\r",
      "\r\n",
      "460:the same short numbing is what the driver of an ox-cart finds in the\r",
      "\r\n",
      "469:is no driver of an ox-cart and a Samana is no drunkard.  It's true that\r",
      "\r\n",
      "580:submerged in the murky river of physical forms.  Many wonderful and\r",
      "\r\n",
      "1062:and the river flowed, the forest and the mountains were rigid, all of it\r",
      "\r\n",
      "1065:all this yellow and blue, river and forest, entered Siddhartha for the\r",
      "\r\n",
      "1069:who scorns diversity, who seeks unity.  Blue was blue, river was river,\r",
      "\r\n",
      "grep: write error: Broken pipe\r\n"
     ]
    }
   ],
   "source": [
    "!grep -n river siddhartha.txt | head"
   ]
  },
  {
   "cell_type": "markdown",
   "metadata": {},
   "source": [
    "How many lines contain \"river\"?  We can count by piping into the word count tool `wc`."
   ]
  },
  {
   "cell_type": "code",
   "execution_count": 20,
   "metadata": {
    "deletable": false,
    "nbgrader": {
     "checksum": "fb58de6f7b5f1543978e07677d837bf1",
     "grade": false,
     "grade_id": "150",
     "locked": true,
     "solution": false
    }
   },
   "outputs": [
    {
     "name": "stdout",
     "output_type": "stream",
     "text": [
      "    109    1365    7444\r\n"
     ]
    }
   ],
   "source": [
    "!grep river siddhartha.txt | wc"
   ]
  },
  {
   "cell_type": "markdown",
   "metadata": {},
   "source": [
    "That's 109 matching lines, containing 1365 words and 7979 characters.  If you just wanted the lines by themselves, use `wc -l`:"
   ]
  },
  {
   "cell_type": "code",
   "execution_count": 21,
   "metadata": {
    "deletable": false,
    "nbgrader": {
     "checksum": "11148a8a14955620fc0280d0a2ea4bca",
     "grade": false,
     "grade_id": "160",
     "locked": true,
     "solution": false
    }
   },
   "outputs": [
    {
     "name": "stdout",
     "output_type": "stream",
     "text": [
      "109\r\n"
     ]
    }
   ],
   "source": [
    "!grep river siddhartha.txt | wc -l"
   ]
  },
  {
   "cell_type": "markdown",
   "metadata": {},
   "source": [
    "What if we want to match both upper- and lower-case text?  Use `grep -i`:"
   ]
  },
  {
   "cell_type": "code",
   "execution_count": 22,
   "metadata": {
    "deletable": false,
    "nbgrader": {
     "checksum": "8f95d05a6e3cbed9e4d98e32b740a92d",
     "grade": false,
     "grade_id": "170",
     "locked": true,
     "solution": false
    }
   },
   "outputs": [
    {
     "name": "stdout",
     "output_type": "stream",
     "text": [
      "166\r\n"
     ]
    }
   ],
   "source": [
    "!grep time siddhartha.txt | wc -l"
   ]
  },
  {
   "cell_type": "code",
   "execution_count": 23,
   "metadata": {
    "deletable": false,
    "nbgrader": {
     "checksum": "912c4b535f38fd939a3d8e55fae2b396",
     "grade": false,
     "grade_id": "180",
     "locked": true,
     "solution": false
    }
   },
   "outputs": [
    {
     "name": "stdout",
     "output_type": "stream",
     "text": [
      "167\r\n"
     ]
    }
   ],
   "source": [
    "!grep -i time siddhartha.txt | wc -l"
   ]
  },
  {
   "cell_type": "markdown",
   "metadata": {},
   "source": [
    "How many lines in *Siddhartha* contain \"other\" (just lower-case)?  Start by using `grep` to extract lines that match the word \"other\" in `siddhartha.txt` and redirecting it to a file called `other-lines.txt`."
   ]
  },
  {
   "cell_type": "code",
   "execution_count": 24,
   "metadata": {
    "collapsed": true
   },
   "outputs": [],
   "source": [
    "!grep other siddhartha.txt > other-lines.txt"
   ]
  },
  {
   "cell_type": "code",
   "execution_count": 25,
   "metadata": {
    "collapsed": true,
    "deletable": false,
    "nbgrader": {
     "checksum": "b8f99b25656d31de80ac60c6342a113c",
     "grade": true,
     "grade_id": "2190",
     "locked": true,
     "points": 1,
     "solution": false
    }
   },
   "outputs": [],
   "source": [
    "%sc h_other = head -1 other-lines.txt\n",
    "assert \"other\" in h_other"
   ]
  },
  {
   "cell_type": "code",
   "execution_count": 26,
   "metadata": {
    "collapsed": true,
    "deletable": false,
    "nbgrader": {
     "checksum": "4421d8e10e40f320b2e84d340701bcd1",
     "grade": true,
     "grade_id": "2200",
     "locked": true,
     "points": 1,
     "solution": false
    }
   },
   "outputs": [],
   "source": [
    "%sc t_other = tail -1 other-lines.txt\n",
    "assert \"other\" in t_other"
   ]
  },
  {
   "cell_type": "markdown",
   "metadata": {
    "collapsed": true,
    "deletable": false,
    "nbgrader": {
     "checksum": "2a1968fbde32fc80801d88a1e58f1c48",
     "grade": true,
     "grade_id": "2220",
     "locked": true,
     "points": 1,
     "solution": false
    }
   },
   "source": [
    "Now count up the lines in the file you created using wc."
   ]
  },
  {
   "cell_type": "code",
   "execution_count": 27,
   "metadata": {},
   "outputs": [
    {
     "name": "stdout",
     "output_type": "stream",
     "text": [
      "127 other-lines.txt\r\n"
     ]
    }
   ],
   "source": [
    "!wc -l other-lines.txt"
   ]
  },
  {
   "cell_type": "markdown",
   "metadata": {},
   "source": [
    "Your answer should be 127!\n",
    "\n",
    "### Counting words with `grep`\n",
    "\n",
    "By piping commands together we can do a lot of powerful things right at the command line.  Let's create a count of the most commonly occurring words in *Siddhartha*.  To do that, we could write a Python script that just counts words, but with the command line shell tools we only need to put a proper pipeline together and we can often accomplish tasks like this in one line.\n",
    "\n",
    "First we need to split up the text lines into a word per line.  There are `grep` flags for that!"
   ]
  },
  {
   "cell_type": "code",
   "execution_count": 28,
   "metadata": {
    "deletable": false,
    "nbgrader": {
     "checksum": "1fd3747e7dc91b3e1f4fff371a934f99",
     "grade": false,
     "grade_id": "230",
     "locked": true,
     "solution": false
    }
   },
   "outputs": [
    {
     "name": "stdout",
     "output_type": "stream",
     "text": [
      "\r\n",
      "The\r\n",
      "Project\r\n",
      "Gutenberg\r\n",
      "EBook\r\n",
      "of\r\n",
      "Siddhartha\r\n",
      "by\r\n",
      "Herman\r\n",
      "Hesse\r\n",
      "tr: write error: Broken pipe\r\n",
      "tr: write error\r\n",
      "cat: write error: Broken pipe\r\n"
     ]
    }
   ],
   "source": [
    "!cat siddhartha.txt | tr -sc '[:alpha:]' '[\\n*]' | head -10"
   ]
  },
  {
   "cell_type": "markdown",
   "metadata": {},
   "source": [
    "Now we need to sort them and count the unique tokens.  `sort` solves the first problem."
   ]
  },
  {
   "cell_type": "code",
   "execution_count": 29,
   "metadata": {
    "deletable": false,
    "nbgrader": {
     "checksum": "4f7be0c7fb94712a0745b5af4417b323",
     "grade": false,
     "grade_id": "240",
     "locked": true,
     "solution": false
    }
   },
   "outputs": [
    {
     "name": "stdout",
     "output_type": "stream",
     "text": [
      "\r\n",
      "a\r\n",
      "a\r\n",
      "a\r\n",
      "a\r\n",
      "a\r\n",
      "a\r\n",
      "a\r\n",
      "a\r\n",
      "a\r\n",
      "sort: write failed: 'standard output': Broken pipe\r\n",
      "sort: write error\r\n"
     ]
    }
   ],
   "source": [
    "!cat siddhartha.txt | tr -sc '[:alpha:]' '[\\n*]' | sort | head -10"
   ]
  },
  {
   "cell_type": "markdown",
   "metadata": {},
   "source": [
    "And `uniq -c` solves the second problem."
   ]
  },
  {
   "cell_type": "code",
   "execution_count": 30,
   "metadata": {
    "deletable": false,
    "nbgrader": {
     "checksum": "686d202bf3e062df279ccd1f00c83285",
     "grade": false,
     "grade_id": "250",
     "locked": true,
     "solution": false
    }
   },
   "outputs": [
    {
     "name": "stdout",
     "output_type": "stream",
     "text": [
      "      1 \n",
      "    953 a\n",
      "     16 A\n",
      "      2 abandon\n",
      "      2 abandoned\n",
      "      1 abide\n",
      "      1 abilities\n",
      "      3 ability\n",
      "     41 able\n",
      "      2 ablution\n",
      "      3 ablutions\n",
      "      1 abode\n",
      "     83 about\n",
      "      1 About\n",
      "      6 above\n",
      "      1 absorbed\n",
      "      1 absorbing\n",
      "      1 abstain\n",
      "      4 abused\n",
      "     11 accept\n",
      "     13 accepted\n",
      "      1 accepting\n",
      "     10 access\n",
      "      1 accessed\n",
      "      1 accessible\n",
      "uniq: write error: Broken pipe\n"
     ]
    }
   ],
   "source": [
    "!cat siddhartha.txt | tr -sc '[:alpha:]' '[\\n*]' | sort | uniq -c | head -25"
   ]
  },
  {
   "cell_type": "markdown",
   "metadata": {},
   "source": [
    "But there's a catch... do you see it?\n",
    "\n",
    "We need to convert all the words down into lower case so that we are correctly counting unique words.  There's another command, `tr`, for that."
   ]
  },
  {
   "cell_type": "code",
   "execution_count": 32,
   "metadata": {
    "deletable": false,
    "nbgrader": {
     "checksum": "dcd703639103bcfc948b3ef5bc364f19",
     "grade": false,
     "grade_id": "260",
     "locked": true,
     "solution": false
    }
   },
   "outputs": [
    {
     "name": "stdout",
     "output_type": "stream",
     "text": [
      "      1 \n",
      "    969 a\n",
      "      2 abandon\n",
      "      2 abandoned\n",
      "      1 abide\n",
      "      1 abilities\n",
      "      3 ability\n",
      "     41 able\n",
      "      2 ablution\n",
      "      3 ablutions\n",
      "      1 abode\n",
      "     84 about\n",
      "      6 above\n",
      "      1 absorbed\n",
      "      1 absorbing\n",
      "      1 abstain\n",
      "      4 abused\n",
      "     11 accept\n",
      "     13 accepted\n",
      "      1 accepting\n",
      "     10 access\n",
      "      1 accessed\n",
      "      1 accessible\n",
      "      2 accompanied\n",
      "      2 accordance\n",
      "uniq: write error: Broken pipe\n"
     ]
    }
   ],
   "source": [
    "!cat siddhartha.txt | tr -sc '[:alpha:]' '[\\n*]' | tr '[:upper:]' '[:lower:]' | sort | uniq -c | head -25"
   ]
  },
  {
   "cell_type": "markdown",
   "metadata": {},
   "source": [
    "...and if we want to know only the top 10 words in Siddhartha, we need to sort the output."
   ]
  },
  {
   "cell_type": "code",
   "execution_count": 31,
   "metadata": {
    "deletable": false,
    "nbgrader": {
     "checksum": "c87de9b72cbb741a9fd07f48ecc5a78c",
     "grade": false,
     "grade_id": "270",
     "locked": true,
     "solution": false
    }
   },
   "outputs": [
    {
     "name": "stdout",
     "output_type": "stream",
     "text": [
      "      1 \r\n",
      "    101 do\r\n",
      "    104 t\r\n",
      "    106 more\r\n",
      "    108 any\r\n",
      "    108 so\r\n",
      "     10 access\r\n",
      "     10 agree\r\n",
      "     10 arms\r\n",
      "     10 ask\r\n",
      "sort: write failed: 'standard output': Broken pipe\r\n",
      "sort: write error\r\n"
     ]
    }
   ],
   "source": [
    "!cat siddhartha.txt | tr -sc '[:alpha:]' '[\\n*]' | tr '[:upper:]' '[:lower:]' | sort | uniq -c | sort | head -10"
   ]
  },
  {
   "cell_type": "markdown",
   "metadata": {},
   "source": [
    "But that sorts by character, not number.  Fortunately, `sort -n` does what we want."
   ]
  },
  {
   "cell_type": "code",
   "execution_count": 33,
   "metadata": {
    "deletable": false,
    "nbgrader": {
     "checksum": "fecdbd7552145920ddff8c2ac0d21ca7",
     "grade": false,
     "grade_id": "280",
     "locked": true,
     "solution": false
    }
   },
   "outputs": [
    {
     "name": "stdout",
     "output_type": "stream",
     "text": [
      "      1 \r\n",
      "      1 abide\r\n",
      "      1 abilities\r\n",
      "      1 abode\r\n",
      "      1 absorbed\r\n",
      "      1 absorbing\r\n",
      "      1 abstain\r\n",
      "      1 accepting\r\n",
      "      1 accessed\r\n",
      "      1 accessible\r\n",
      "sort: write failed: 'standard output': Broken pipe\r\n",
      "sort: write error\r\n"
     ]
    }
   ],
   "source": [
    "!cat siddhartha.txt | tr -sc '[:alpha:]' '[\\n*]' | tr '[:upper:]' '[:lower:]' | sort | uniq -c | sort -n | head -10"
   ]
  },
  {
   "cell_type": "markdown",
   "metadata": {},
   "source": [
    "But that's the wrong end of the list!  Two ways to fix that:  (a) use `tail` instead of `head`; (b) use `sort -rn`, which will sort in reverse order.  Let's try the latter."
   ]
  },
  {
   "cell_type": "code",
   "execution_count": 34,
   "metadata": {
    "deletable": false,
    "nbgrader": {
     "checksum": "a8e960da24ca9db3c6f2a9da999f11e6",
     "grade": false,
     "grade_id": "290",
     "locked": true,
     "solution": false
    },
    "scrolled": true
   },
   "outputs": [
    {
     "name": "stdout",
     "output_type": "stream",
     "text": [
      "   2221 the\r\n",
      "   1434 and\r\n",
      "   1225 to\r\n",
      "   1107 of\r\n",
      "    969 a\r\n",
      "    960 he\r\n",
      "    708 his\r\n",
      "    686 in\r\n",
      "    540 you\r\n",
      "    524 had\r\n",
      "sort: write failed: 'standard output': Broken pipe\r\n",
      "sort: write error\r\n"
     ]
    }
   ],
   "source": [
    "!cat siddhartha.txt | tr -sc '[:alpha:]' '[\\n*]' | tr '[:upper:]' '[:lower:]' | sort | uniq -c | sort -rn | head -10"
   ]
  },
  {
   "cell_type": "markdown",
   "metadata": {},
   "source": [
    "Let's try another text.\n",
    "\n",
    "Download Alice in Wonderland from https://s3.amazonaws.com/2017-dmfa/assignment-1/alice.txt"
   ]
  },
  {
   "cell_type": "code",
   "execution_count": 35,
   "metadata": {},
   "outputs": [
    {
     "name": "stdout",
     "output_type": "stream",
     "text": [
      "--2017-09-08 05:06:32--  https://s3.amazonaws.com/2017-dmfa/assignment-1/alice.txt\n",
      "Resolving s3.amazonaws.com (s3.amazonaws.com)... 54.231.32.122\n",
      "Connecting to s3.amazonaws.com (s3.amazonaws.com)|54.231.32.122|:443... connected.\n",
      "HTTP request sent, awaiting response... 200 OK\n",
      "Length: 167515 (164K) [text/plain]\n",
      "Saving to: ‘alice.txt’\n",
      "\n",
      "alice.txt           100%[===================>] 163.59K  --.-KB/s    in 0.009s  \n",
      "\n",
      "2017-09-08 05:06:32 (18.6 MB/s) - ‘alice.txt’ saved [167515/167515]\n",
      "\n"
     ]
    }
   ],
   "source": [
    "!wget https://s3.amazonaws.com/2017-dmfa/assignment-1/alice.txt"
   ]
  },
  {
   "cell_type": "code",
   "execution_count": 36,
   "metadata": {},
   "outputs": [
    {
     "ename": "NameError",
     "evalue": "name 'os' is not defined",
     "output_type": "error",
     "traceback": [
      "\u001b[0;31m---------------------------------------------------------------------------\u001b[0m",
      "\u001b[0;31mNameError\u001b[0m                                 Traceback (most recent call last)",
      "\u001b[0;32m<ipython-input-36-0927fcfb5331>\u001b[0m in \u001b[0;36m<module>\u001b[0;34m()\u001b[0m\n\u001b[0;32m----> 1\u001b[0;31m \u001b[0;32massert\u001b[0m \u001b[0;34m'alice.txt'\u001b[0m \u001b[0;32min\u001b[0m \u001b[0mos\u001b[0m\u001b[0;34m.\u001b[0m\u001b[0mlistdir\u001b[0m\u001b[0;34m(\u001b[0m\u001b[0;34m'.'\u001b[0m\u001b[0;34m)\u001b[0m\u001b[0;34m\u001b[0m\u001b[0m\n\u001b[0m",
      "\u001b[0;31mNameError\u001b[0m: name 'os' is not defined"
     ]
    }
   ],
   "source": [
    "assert 'alice.txt' in os.listdir('.')"
   ]
  },
  {
   "cell_type": "markdown",
   "metadata": {},
   "source": [
    "Take a look at the next cell.  Will it find the top 25 unique words in *Alice in Wonderland* successfully?"
   ]
  },
  {
   "cell_type": "code",
   "execution_count": 37,
   "metadata": {
    "deletable": false,
    "nbgrader": {
     "checksum": "26e86e52c08c3ab85688df6d66119936",
     "grade": false,
     "grade_id": "320",
     "locked": true,
     "solution": false
    }
   },
   "outputs": [
    {
     "name": "stdout",
     "output_type": "stream",
     "text": [
      "    672 a\r\n",
      "     18 A\r\n",
      "      2 abide\r\n",
      "      1 able\r\n",
      "    101 about\r\n",
      "      1 About\r\n",
      "      3 above\r\n",
      "      1 absence\r\n",
      "      2 absurd\r\n",
      "      1 accept\r\n",
      "      1 acceptance\r\n",
      "      2 accepted\r\n",
      "      1 accepting\r\n",
      "     10 access\r\n",
      "      1 accessed\r\n",
      "      1 accessible\r\n",
      "      2 accident\r\n",
      "      1 accidentally\r\n",
      "      2 accordance\r\n",
      "      1 account\r\n",
      "      1 accounting\r\n",
      "      1 accounts\r\n",
      "      1 accusation\r\n",
      "      1 accustomed\r\n",
      "      1 ache\r\n",
      "uniq: write error: Broken pipe\r\n"
     ]
    }
   ],
   "source": [
    "!cat alice.txt | tr -sc '[:alpha:]' '[\\n*]' | sort | uniq -c | head -25"
   ]
  },
  {
   "cell_type": "markdown",
   "metadata": {},
   "source": [
    "Describe what needs to be done to the previous cell to get it to work correctly.  **Describe it using words**, explaining the issues, rather than using shell commands!"
   ]
  },
  {
   "cell_type": "markdown",
   "metadata": {},
   "source": [
    "** The sort should be descending and by number instead of alphabetic"
   ]
  },
  {
   "cell_type": "markdown",
   "metadata": {},
   "source": [
    "Okay, now implement your solution using shell commands with a pipeline."
   ]
  },
  {
   "cell_type": "code",
   "execution_count": 41,
   "metadata": {},
   "outputs": [
    {
     "name": "stdout",
     "output_type": "stream",
     "text": [
      "   1818 the\r\n",
      "    940 and\r\n",
      "    809 to\r\n",
      "    690 a\r\n",
      "    631 of\r\n",
      "    610 it\r\n",
      "    553 she\r\n",
      "    545 i\r\n",
      "    481 you\r\n",
      "    462 said\r\n",
      "    431 in\r\n",
      "    403 alice\r\n",
      "    358 was\r\n",
      "    330 that\r\n",
      "    274 as\r\n",
      "    248 her\r\n",
      "    228 with\r\n",
      "    227 at\r\n",
      "    219 s\r\n",
      "    218 t\r\n",
      "    204 on\r\n",
      "    200 all\r\n",
      "    181 this\r\n",
      "    179 for\r\n",
      "    178 had\r\n",
      "sort: write failed: 'standard output': Broken pipe\r\n",
      "sort: write error\r\n"
     ]
    }
   ],
   "source": [
    "! cat alice.txt | tr -sc '[:alpha:]' '[\\n*]' | tr '[:upper:]' '[:lower:]' | sort | uniq -c | sort -rn |  head -25"
   ]
  }
 ],
 "metadata": {
  "kernelspec": {
   "display_name": "Python 3",
   "language": "python",
   "name": "python3"
  },
  "language_info": {
   "codemirror_mode": {
    "name": "ipython",
    "version": 3
   },
   "file_extension": ".py",
   "mimetype": "text/x-python",
   "name": "python",
   "nbconvert_exporter": "python",
   "pygments_lexer": "ipython3",
   "version": "3.5.3"
  }
 },
 "nbformat": 4,
 "nbformat_minor": 1
}
