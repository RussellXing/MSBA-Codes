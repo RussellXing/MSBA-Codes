{
 "cells": [
  {
   "cell_type": "markdown",
   "metadata": {},
   "source": [
    "# Part A"
   ]
  },
  {
   "cell_type": "code",
   "execution_count": 1,
   "metadata": {},
   "outputs": [],
   "source": [
    "import pandas\n",
    "from datetime import datetime as dt\n",
    "import numpy\n",
    "import datetime\n",
    "import os\n",
    "import matplotlib.pyplot as plt\n",
    "import seaborn\n",
    "% matplotlib inline"
   ]
  },
  {
   "cell_type": "code",
   "execution_count": 2,
   "metadata": {},
   "outputs": [],
   "source": [
    "## read csv files\n",
    "airlines = pandas.read_csv(os.path.join(os.getcwd(),'airlines.csv'))\n",
    "airports = pandas.read_csv(os.path.join(os.getcwd(),'airports.csv'))\n",
    "flights = pandas.read_csv(os.path.join(os.getcwd(),'flights.csv'))\n",
    "planes = pandas.read_csv(os.path.join(os.getcwd(),'planes.csv'))\n",
    "weather = pandas.read_csv(os.path.join(os.getcwd(),'weather.csv'))"
   ]
  },
  {
   "cell_type": "markdown",
   "metadata": {},
   "source": [
    "## i. Print out the number of rows in each of the five files."
   ]
  },
  {
   "cell_type": "code",
   "execution_count": 3,
   "metadata": {},
   "outputs": [
    {
     "name": "stdout",
     "output_type": "stream",
     "text": [
      "Airlines file has 16 lines\n",
      "Airports file has 1458 lines\n",
      "Flights file has 336776 lines\n",
      "Planes file has 3322 lines\n",
      "Weather file has 26130 lines\n"
     ]
    }
   ],
   "source": [
    "print('Airlines file has',airlines.shape[0],'lines')\n",
    "print('Airports file has',airports.shape[0],'lines')\n",
    "print('Flights file has',flights.shape[0],'lines')\n",
    "print('Planes file has',planes.shape[0],'lines')\n",
    "print('Weather file has',weather.shape[0],'lines')"
   ]
  },
  {
   "cell_type": "markdown",
   "metadata": {},
   "source": [
    "## ii. Means and standard deviations of inter-arrival times for the top five busiest airports (in terms of highest average number of flights arrived per day) in the list provided"
   ]
  },
  {
   "cell_type": "code",
   "execution_count": 4,
   "metadata": {},
   "outputs": [],
   "source": [
    "#add a colum 'arr_dt' that contains the datetime of the arrival time\n",
    "flight_df = pandas.DataFrame(flights)\n",
    "flight_df['arr_time'] = flight_df['arr_time'].dropna()\n",
    "flight_df['hour'] = flight_df['arr_time']//100\n",
    "flight_df['minute'] = flight_df['arr_time']%100\n",
    "flight_df['arr_dt'] = pandas.to_datetime(flight_df[['year','month','day','hour','minute']])"
   ]
  },
  {
   "cell_type": "code",
   "execution_count": 5,
   "metadata": {},
   "outputs": [
    {
     "name": "stdout",
     "output_type": "stream",
     "text": [
      "   dest    flights\n",
      "4   ATL  46.227397\n",
      "69  ORD  45.498630\n",
      "49  LAX  43.994521\n",
      "11  BOS  41.172603\n",
      "54  MCO  38.298630\n"
     ]
    }
   ],
   "source": [
    "#calculate the average flights by airport and select top 5\n",
    "flight_groupby = flight_df.groupby(['year','month','day','dest'])['arr_time']\n",
    "flight_count = flight_groupby.count().reset_index()\n",
    "flight_count.columns = ['year','month','day','dest','flights']\n",
    "flight_count = flight_count.groupby(['dest'])['flights']\n",
    "top5_busy = flight_count.mean().reset_index().sort_values(by = 'flights',ascending = 0).iloc[:5]\n",
    "top5_busy_list = list(top5_busy['dest'])\n",
    "print(top5_busy)"
   ]
  },
  {
   "cell_type": "code",
   "execution_count": 6,
   "metadata": {},
   "outputs": [
    {
     "name": "stdout",
     "output_type": "stream",
     "text": [
      "  dest       mean        std\n",
      "0  ATL  31.112843  74.787310\n",
      "1  BOS  34.880689  65.739169\n",
      "2  LAX  32.737888  70.795144\n",
      "3  MCO  37.596180  74.367610\n",
      "4  ORD  31.650027  74.118966\n"
     ]
    }
   ],
   "source": [
    "#calculate the mean inter-arrival time of the top 5 airports\n",
    "flight_df_sorted = flight_df[['arr_dt','dest']].dropna()\n",
    "flight_df_sorted2 = flight_df_sorted[flight_df_sorted['dest'].isin(top5_busy_list)].sort_values(['dest','arr_dt'],ascending = [1,1])\n",
    "flight_df_sorted2['diff'] = flight_df_sorted2['arr_dt'].diff().dt.seconds.div(60, fill_value=0)\n",
    "mean = flight_df_sorted2.groupby('dest').mean().reset_index()\n",
    "mean.columns = ['dest','mean']\n",
    "std = flight_df_sorted2.groupby('dest').std().reset_index()\n",
    "std.columns = ['dest','std']\n",
    "result1 = pandas.merge(mean, std, left_on = 'dest', right_on = 'dest')\n",
    "print(result1)"
   ]
  },
  {
   "cell_type": "code",
   "execution_count": 7,
   "metadata": {},
   "outputs": [
    {
     "data": {
      "image/png": "[encoded data removed]",
      "text/plain": [
       "<matplotlib.figure.Figure at 0x1b3e64f46a0>"
      ]
     },
     "metadata": {},
     "output_type": "display_data"
    }
   ],
   "source": [
    "#display the histogram of the inter-arrval time\n",
    "n, bins, patches = plt.hist(flight_df_sorted2['diff'], bins = 200, color='g', alpha=.75)"
   ]
  },
  {
   "cell_type": "code",
   "execution_count": 8,
   "metadata": {},
   "outputs": [
    {
     "data": {
      "text/plain": [
       "<matplotlib.axes._subplots.AxesSubplot at 0x1b3e6d33e48>"
      ]
     },
     "execution_count": 8,
     "metadata": {},
     "output_type": "execute_result"
    },
    {
     "data": {
      "image/png": "[encoded data removed]",
      "text/plain": [
       "<matplotlib.figure.Figure at 0x1b3e68f5c18>"
      ]
     },
     "metadata": {},
     "output_type": "display_data"
    }
   ],
   "source": [
    "#display the density plot of the inter-arrval time\n",
    "seaborn.kdeplot(flight_df_sorted2['diff'])"
   ]
  }
 ],
 "metadata": {
  "kernelspec": {
   "display_name": "Python 3",
   "language": "python",
   "name": "python3"
  },
  "language_info": {
   "codemirror_mode": {
    "name": "ipython",
    "version": 3
   },
   "file_extension": ".py",
   "mimetype": "text/x-python",
   "name": "python",
   "nbconvert_exporter": "python",
   "pygments_lexer": "ipython3",
   "version": "3.6.3"
  }
 },
 "nbformat": 4,
 "nbformat_minor": 2
}
